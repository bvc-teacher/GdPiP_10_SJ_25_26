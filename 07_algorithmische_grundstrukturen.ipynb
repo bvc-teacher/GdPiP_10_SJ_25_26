{
 "cells": [
  {
   "cell_type": "markdown",
   "metadata": {},
   "source": [
    "# Kapitel 4: Algorithmische Grundstrukturen und ihre Darstellung\n",
    "\n",
    "Bisher haben wir hauptsächlich Programme gesehen, bei denen der Programmcode Zeile für Zeile nacheinander ausgewertet wird. Mit Hilfe **algorithmischer Grundstrukturen** können wir diesem Verhalten abweichen.\n",
    "\n",
    "**Algorithmische Grundstrukturen steuern dabei den Ablauf eines Programms.** Mit ihnen kannst du Anweisungsblöcke definieren, die nur unter einer bestimmten Bedingung ausgeführt werden oder auch solche, deren Ausführung mehrfach erfolgt. Hierfür unterscheiden wir **Sequenzen**, **Verzweigungen** und **Schleifen**, welche wir uns - inklusiver drei **Darstellungsformen** - nachfolgend genauer anschauen."
   ]
  },
  {
   "cell_type": "markdown",
   "metadata": {},
   "source": [
    "## 4.4. Verzweigungen"
   ]
  },
  {
   "cell_type": "markdown",
   "metadata": {},
   "source": [
    "Bei Programmen und Algorithmen muss man in der Lage sein - je nach Eingabe der Nutzerinnen und Nutzer, berechneter oder eingelesener Daten - Entscheidungen zu treffen.\n",
    "\n",
    "Je nach Entscheidung wird entweder das eine oder das andere gemacht.\n",
    "\n",
    "Ein der Jahreszeit entsprechendes Beispiel wäre: __WENN__ die Temperatur im Zimmer zu niedrig ist, __DANN__ drehe die Heizung auf, __ANSONSTEN__ lasse sie ausgeschalten. \n",
    "\n",
    "Mit **Verzweigungen** können Codeblöcke definiert werden, die nur dann ausgeführt werden, wenn eine gegebene **Bedingung erfüllt**  bzw. nur dann, wenn sie **nicht erfüllt**  ist. \n",
    "\n",
    "Bedingungen sind meistens Ergebnisse von Vergleichen und damit boolesche Werte (```True``` oder ```False```).\n",
    "\n",
    "Darin lässt sich bereits gut die __Struktur des Pseudocodes__ einer Verzweigung erkennen. Wir nennen diese Art der Verzweigung eine __zweiseitige Verzweigung__.\n",
    "\n",
    "```shell\n",
    "WENN Bedingung erfüllt\n",
    "DANN \n",
    "    Anweisung 1\n",
    "    Anweisung 2\n",
    "SONST\n",
    "    Anweisung 1\n",
    "    Anweisung 2\n",
    "```\n",
    "\n",
    "Es ist ebenfalls möglich nur den ersten Zweig umzusetzen. Der Code wird __ausschließlich__ nur ausgeführt, wenn eine Bedingung erfüllt ist. Dies bezeichnen wir als __einseitige Verzweigung__.\n",
    "\n",
    "```shell\n",
    "WENN Bedingung erfüllt\n",
    "DANN\n",
    "    Anweisung 1\n",
    "    Anweisung 2\n",
    "```"
   ]
  },
  {
   "cell_type": "markdown",
   "metadata": {},
   "source": [
    "Im __Programmcode__ wird dies nachfolgend an einfachen nachvollziehbaren Beispielen gezeigt."
   ]
  },
  {
   "cell_type": "code",
   "execution_count": null,
   "metadata": {},
   "outputs": [],
   "source": [
    "zahl = 5\n",
    "\n",
    "if zahl > 5:\n",
    "    print('Die Zahl ist größer 5')\n",
    "else:\n",
    "    print('Die Zahl ist kleiner oder gleich 5.')"
   ]
  },
  {
   "cell_type": "markdown",
   "metadata": {},
   "source": [
    "Es folgen noch einige Variationen für __einseitige Verzweigungen__. \n",
    "\n",
    "Gezeigt wird dabei, dass eine Variable vom Typ `boolean` auch allein als Bedingung in der Verzweigung stehen kann, da diese ja bereits `True` oder `False` ist."
   ]
  },
  {
   "cell_type": "code",
   "execution_count": null,
   "metadata": {},
   "outputs": [],
   "source": [
    "test = True\n",
    "\n",
    "if test:\n",
    "    print('Test 1 erfolgreich.')\n",
    "\n",
    "if test == True:\n",
    "    print('Test 2 erfolgreich.')\n",
    "\n",
    "if not test:\n",
    "    print('Test 3 erfolgreich.')"
   ]
  },
  {
   "cell_type": "markdown",
   "metadata": {},
   "source": [
    "Für komplexere Probleme gibt es ebenfalls auch noch die Möglichkeit der __mehrseitigen Verzweigung__. \n",
    "\n",
    "Dabei kann man auf mehrere Bedingungen hin überprüfen, wie nachfolgend gezeigt. \n",
    "\n",
    "Bei der allerersten Übereinstimmung (Abarbeitung von **oben nach unten**) werden alle nachfolgenden Bedingungen **nicht mehr** berücksichtigt."
   ]
  },
  {
   "cell_type": "code",
   "execution_count": 11,
   "metadata": {},
   "outputs": [
    {
     "name": "stdout",
     "output_type": "stream",
     "text": [
      "Dieses Programm kann deinen Zustand nicht verarbeiten.\n"
     ]
    }
   ],
   "source": [
    "zustand = 'super' # ändere mich! \n",
    "\n",
    "if zustand == 'gut':\n",
    "    print('Super das es dir gut geht! :)')\n",
    "elif zustand == 'so lala':\n",
    "    print('Schade das es dir nicht so gut geht.')\n",
    "elif zustand == 'schlecht':\n",
    "    print('Lass uns gern reden, wenn es dir schlecht geht!')\n",
    "else:\n",
    "    print('Dieses Programm kann deinen Zustand nicht verarbeiten.')"
   ]
  },
  {
   "cell_type": "markdown",
   "metadata": {},
   "source": [
    "**Hinweise zum Code einer Verzweigung:**\n",
    "\n",
    "* Jede Verzweigung beginnt mit dem Schlüsselwort ```if```.\n",
    "* Danach folgt eine Bedingung, die wahr oder falsch sein kann. In PYTHON bedeutet dies, dass sie als Ergebnis den Wert ```True``` oder ```False``` haben muss. Nur im Falle von ```True``` werden die nun folgenden eingerückten Anweisungen auch abgearbeitet.\n",
    "* Der Doppelpunkt ```:``` schließt die Bedingung ab.\n",
    "* Alle Anweisungen, die bei Erfülltsein der Bedingung abgearbeitet werden sollen, müssen gleich weit eingerückt sein. Dies können auch mehrere Anweisungen sein. Nutze Tabulatoren (die Taste mit den Doppelpfeilen am linken Rand der Tastatur) zum Einrücken.\n",
    "* Die erste nicht eingerückte Anweisung kennzeichnet, dass die Verzweigung zu Ende ist. Sie wird in jedem Fall ausgeführt: Ist die Bedingung nicht erfüllt, wird sie statt der Verzweigung ausgeführt; ist die Bedingung erfüllt, wird sie erst nach Abarbeitung der Verzweigung ausgeführt."
   ]
  },
  {
   "cell_type": "markdown",
   "metadata": {},
   "source": [
    "__Struktogramm für die einseitige Verzweigung:__\n",
    "\n",
    "![Struktogramm](07_einseitige_verzweigung.png) \n",
    "\n",
    "Das Zeichen ```∅``` kennzeichnet eine **leere Menge**. Diese ist dem Struktogramm zwingend hinzuzufügen und bedeutet einfach, dass in diesem Fall nichts ausgeführt wird.\n",
    "\n",
    "__Struktogramm für die zweiseitige Verzweigung:__\n",
    "\n",
    "![Struktogramm](07_zweiseitige_verzweigung.png) \n",
    "\n",
    "__Struktogramm für die mehrseitige Verzweigung:__\n",
    "\n",
    "![Struktogramm](07_mehrseitige_verzweigung.png) "
   ]
  },
  {
   "cell_type": "markdown",
   "metadata": {},
   "source": [
    "## 4.5. Übungen zur Verzweigungen"
   ]
  },
  {
   "cell_type": "markdown",
   "metadata": {},
   "source": [
    "### Aufgabe 1\n",
    "Implementiere das folgende Struktogramm.\n",
    "\n",
    "![Struktogramm](07_uebung_zur_verzweigung_1.png) "
   ]
  },
  {
   "cell_type": "code",
   "execution_count": 1,
   "metadata": {},
   "outputs": [],
   "source": [
    "# HIER IST PLATZ FÜR DEINE LÖSUNG! :)\n"
   ]
  },
  {
   "cell_type": "markdown",
   "metadata": {},
   "source": [
    "\n",
    "### Aufgabe 2 \n",
    "Implementiere den folgenden Pseudocode.\n",
    "\n",
    "```shelll\n",
    "Alter als ganze Zahl eingeben\n",
    "WENN Alter größer oder gleich 18 \n",
    "DANN\n",
    "    Ausgabe von 'Zutritt gewährt.'\n",
    "SONST\n",
    "    Ausgabe von 'Kein Zutritt.'\n",
    "Ausgabe von 'Vielen Dank für die Nutzung des Programms.'\n",
    "```"
   ]
  },
  {
   "cell_type": "code",
   "execution_count": 2,
   "metadata": {},
   "outputs": [],
   "source": [
    "# HIER IST PLATZ FÜR DEINE LÖSUNG! :)\n"
   ]
  },
  {
   "cell_type": "markdown",
   "metadata": {},
   "source": [
    "### Aufgabe 3\n",
    "Implementiere das folgende Struktogramm.\n",
    "\n",
    "![Struktogramm](07_uebung_zur_verzweigung_3.png) "
   ]
  },
  {
   "cell_type": "code",
   "execution_count": 3,
   "metadata": {},
   "outputs": [],
   "source": [
    "# HIER IST PLATZ FÜR DEINE LÖSUNG! :)\n"
   ]
  },
  {
   "cell_type": "markdown",
   "metadata": {},
   "source": [
    "### Aufgabe 4\n",
    "Implementiere ein Programm, das eine reelle Zahl einliest und ihre entgegensetzte Zahl ausgibt. D. h. bei Eingabe von z. B. −3‚45 wird 3‚45 ausgegeben."
   ]
  },
  {
   "cell_type": "code",
   "execution_count": 4,
   "metadata": {},
   "outputs": [],
   "source": [
    "# HIER IST PLATZ FÜR DEINE LÖSUNG! :)\n"
   ]
  },
  {
   "cell_type": "markdown",
   "metadata": {},
   "source": [
    "### Aufgabe 5\n",
    "Implementiere ein Programm, das eine Zahl einliest und ihr Reziprokes (Kehrwert) berechnet und ausgibt. \n",
    "\n",
    "**Hinweis:** Der Kehrwert von 0 ist nicht definiert."
   ]
  },
  {
   "cell_type": "code",
   "execution_count": 5,
   "metadata": {},
   "outputs": [],
   "source": [
    "# HIER IST PLATZ FÜR DEINE LÖSUNG! :)\n"
   ]
  },
  {
   "cell_type": "markdown",
   "metadata": {},
   "source": [
    "<a href=\"https://learningview.org/app/#!/\" title=\"Auf zu LearningView! :-)\">![LearningView](00_learningview.png)</a>"
   ]
  },
  {
   "cell_type": "markdown",
   "metadata": {},
   "source": [
    "<hr/>\n",
    "\n",
    "<div style=\"max-width:500px;margin-right: auto; margin-left: auto; text-align:center;\">\n",
    "\n",
    "© Patrick Binkert & Dr. Stephan Matos Camacho | SJ 25 / 26\n",
    "\n",
    "![FooterImage](00_coding@BvC.png)\n",
    "    \n",
    "</div>"
   ]
  }
 ],
 "metadata": {
  "kernelspec": {
   "display_name": "Python 3",
   "language": "python",
   "name": "python3"
  },
  "language_info": {
   "codemirror_mode": {
    "name": "ipython",
    "version": 3
   },
   "file_extension": ".py",
   "mimetype": "text/x-python",
   "name": "python",
   "nbconvert_exporter": "python",
   "pygments_lexer": "ipython3",
   "version": "3.11.9"
  }
 },
 "nbformat": 4,
 "nbformat_minor": 2
}
