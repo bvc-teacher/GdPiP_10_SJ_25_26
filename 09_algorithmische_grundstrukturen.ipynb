{
 "cells": [
  {
   "cell_type": "markdown",
   "metadata": {},
   "source": [
    "# Kapitel 4: Algorithmische Grundstrukturen und ihre Darstellung\n",
    "\n",
    "Bisher haben wir hauptsächlich Programme gesehen, bei denen der Programmcode Zeile für Zeile nacheinander ausgewertet wird. Mit Hilfe **algorithmischer Grundstrukturen** können wir diesem Verhalten abweichen.\n",
    "\n",
    "**Algorithmische Grundstrukturen steuern dabei den Ablauf eines Programms.** Mit ihnen könnt ihr Anweisungsblöcke definieren, die nur unter einer bestimmten Bedingung ausgeführt werden oder auch solche, deren Ausführung mehrfach erfolgt. Hierfür unterscheiden wir **Sequenzen**, **Verzweigungen** und **Schleifen**, welche wir uns - inklusiv dreier **Darstellungsformen** - nachfolgend genauer anschauen."
   ]
  },
  {
   "cell_type": "markdown",
   "metadata": {},
   "source": [
    "## 4.8. Schleifen / Iteration\n",
    "\n",
    "Betrachten wir zunächst das nachfolgende Code-Beispiel:"
   ]
  },
  {
   "cell_type": "code",
   "execution_count": null,
   "metadata": {},
   "outputs": [],
   "source": [
    "print(1)\n",
    "print(2)\n",
    "print(3)\n",
    "print(4)\n",
    "print(5)\n",
    "print(6)\n",
    "print(7)\n",
    "print(8)\n",
    "print(9)\n",
    "print(10)\n",
    "print(11)\n",
    "print(12)"
   ]
  },
  {
   "cell_type": "markdown",
   "metadata": {},
   "source": [
    "**Was passiert hier?** Zwölfmal wird immer und immer wieder die gleiche Funktion aufgerufen. Der Code ist nahezu identisch. Lediglich die ausgegebene Zahl ändert sich.\n",
    "\n",
    "Jetzt stellen wir uns einmal vor, dass wir die Zahlen von 1 bis 100 ausgeben wollen. 100 mal den gleichen Code schreiben? Klingt nicht so spaßig? Stimmt! Dafür gibt es aber eine algorithmische Lösung: **die Schleife**!\n",
    "\n",
    "Die Schleife als algorithmische Grundstruktur ermöglicht es uns, Code **mehrfach hintereinander auszuführen**, ohne immer und immer wieder die gleichen Code-Zeilen schreiben zu müssen. Das wiederholte Ausführen von Anweisungen wird bei der Programmierung als **Iteration** bezeichnet. Eine Iteration ist ein einzelner Durchlauf innerhalb einer Schleife. Wenn also eine Schleife viermal ausgeführt wird, dann besteht sie aus vier Iterationen.\n",
    "\n",
    "Wir unterscheiden grundsätzlich **3 Arten von Schleifen**:\n",
    "\n",
    "* Kopfgesteuerte Schleife\n",
    "* Fußgesteuerte Schleife\n",
    "* Zählschleife\n",
    "\n",
    "Diese werden nachfolgend näher betrachtet.\n",
    "\n",
    "<p style=\"page-break-after:always;\"></p>"
   ]
  },
  {
   "cell_type": "markdown",
   "metadata": {},
   "source": [
    "## 4.8.1. Kopfgesteuerte Schleife\n",
    "\n",
    "Bei der kopfgesteuerten Schleife wird eine Sequenz so lange wiederholt ausgeführt, bis eine Bedingung (im Kopf der Schleife) **nicht mehr erfüllt** ist.\n",
    "\n",
    "Im **Pseudocode** könnte man exemplarisch folgendes formulieren:\n",
    "\n",
    "```shell\n",
    "SOLANGE zaehler < 5\n",
    "    ergebnis = ergebnis + 1\n",
    "    zaehler = zaehler + 1 \n",
    "```\n",
    "\n",
    "Gut zu sehen ist, dass die letzten zwei Zeilen eingerückt sind. Das verdeutlicht, dass alles, was eingerückt ist, von der Schleife wiederholt wird. \n",
    "\n",
    "Nachfolgend ist dieses Beispiel als **Code und Struktogramm** visualisiert. Zu sehen ist bei den Beispielen auch, dass vor der Schleife die Variablen ```zaehler``` und ```ergebnis``` jeweils mit dem Wert ```0``` initialisiert werden. \n",
    "\n",
    "In **JEDEM** Schleifendurchlauf wird der ```zaehler``` um eins **inkrementiert** (das Fachwort für: 'erhöht'), solange bis die Bedingung im Schleifenkopf **nicht mehr erfüllt** ist.\n",
    "\n",
    "**Programmcode:**"
   ]
  },
  {
   "cell_type": "code",
   "execution_count": 1,
   "metadata": {},
   "outputs": [],
   "source": [
    "zaehler = 0\n",
    "ergebnis = 0\n",
    "while zaehler < 5:\n",
    "    ergebnis = ergebnis + 1\n",
    "    zaehler = zaehler + 1"
   ]
  },
  {
   "cell_type": "markdown",
   "metadata": {},
   "source": [
    "**Programmcode mit Ausgaben zum Verständnis:** "
   ]
  },
  {
   "cell_type": "code",
   "execution_count": 2,
   "metadata": {},
   "outputs": [
    {
     "name": "stdout",
     "output_type": "stream",
     "text": [
      "Vor der Schleife >>> zaehler = 0 und ergebnis = 0\n",
      "    In der Schleife >>> zaehler = 0 und ergebnis = 0\n",
      "    In der Schleife >>> zaehler = 1 und ergebnis = 1\n",
      "    In der Schleife >>> zaehler = 2 und ergebnis = 2\n",
      "    In der Schleife >>> zaehler = 3 und ergebnis = 3\n",
      "    In der Schleife >>> zaehler = 4 und ergebnis = 4\n"
     ]
    }
   ],
   "source": [
    "zaehler = 0\n",
    "ergebnis = 0\n",
    "print(f'Vor der Schleife >>> zaehler = {zaehler} und ergebnis = {ergebnis}')\n",
    "while zaehler < 5:\n",
    "    print(f'    In der Schleife >>> zaehler = {zaehler} und ergebnis = {ergebnis}')\n",
    "    ergebnis = ergebnis + 1\n",
    "    zaehler = zaehler + 1"
   ]
  },
  {
   "cell_type": "markdown",
   "metadata": {},
   "source": [
    "<p style=\"page-break-after:always;\"></p>\n",
    "\n",
    "**Struktogramm:**"
   ]
  },
  {
   "cell_type": "markdown",
   "metadata": {},
   "source": [
    "![Struktogramm zur kopfgesteuerten Schleife](09_kopfgesteuerte_schleife.png)"
   ]
  },
  {
   "cell_type": "markdown",
   "metadata": {},
   "source": [
    "In die geometrische Form für die Schleife (grüne Form) wird lediglich die Bedingung eingetragen. Dass es sich dabei um eine Schleife handelt, kann ja aus der Form abgeleitet werden.\n",
    "\n",
    "**Hinweise zum Code einer kopfgesteuerten Schleife:**\n",
    "\n",
    "* Jede kopfgesteuerte Schleife beginnt mit dem Schlüsselwort ```while```.\n",
    "* Danach folgt eine Bedingung, die wahr oder falsch sein kann. In PYTHON bedeutet dies, dass sie als Ergebnis den Wert ```True``` oder ```False``` haben muss. Nur im Falle von True werden die nun folgenden eingerückten Anweisungen auch abgearbeitet.\n",
    "* Der Doppelpunkt ```:``` schließt die Bedingung ab.\n",
    "* Alle Anweisungen, die bei Erfülltsein der Bedingung abgearbeitet werden sollen, müssen gleich weit eingerückt sein. Dies können auch mehrere Anweisungen sein. Nutze Tabulatoren (die Taste mit den Doppelpfeilen am linken Rand der Tastatur) zum Einrücken. Man bezeichnet diese Anweisungen als Schleifenkörper.\n",
    "* Eine Schleife, d. h. der Schleifenkörper, darf niemals leer sein. Es muss mindestens eine eingerückte Anweisung vorhanden sein. Kommentarzeilen zählen dabei natürlich nicht.\n",
    "* Die erste nicht eingerückte Anweisung kennzeichnet, dass die Schleife zu Ende ist.\n",
    "* Damit die Schleife nicht zu einer Endlosschleife wird, muss sichergestellt werden, dass die Bedingung irgendwann im Laufe des Programmablaufs nicht mehr erfüllt ist."
   ]
  },
  {
   "cell_type": "markdown",
   "metadata": {},
   "source": [
    "\n",
    "<p style=\"page-break-after:always;\"></p>\n",
    "\n",
    "**Einzelne Schleifendurchläufe:**\n",
    "\n",
    "Schauen wir uns das Ganze zum besseren Verständnis noch etwas genauer an. Wir betrachten dazu das folgende Beispiel:"
   ]
  },
  {
   "cell_type": "code",
   "execution_count": null,
   "metadata": {},
   "outputs": [],
   "source": [
    "i = 0\n",
    "while i < 10:\n",
    "    i = i + 1"
   ]
  },
  {
   "cell_type": "markdown",
   "metadata": {},
   "source": [
    "Schritt\t| Bedingung i < 10? | Aktion | neuer Wert von i\n",
    ":--: | :--: | :--: | :--: \n",
    "0️⃣ | - | Initialisierung (vor der eigentlichen Schleife) | i = 0\n",
    "1️⃣\t| ✅ WAHR (0 < 10) | i = 0 + 1 ➡️ 1 | i = 1\n",
    "2️⃣\t| ✅ WAHR (1 < 10) | i = 1 + 1 ➡️ 2 | i = 2\n",
    "3️⃣ | ✅ WAHR (2 < 10) | i = 2 + 1 ➡️ 3 | i = 3\n",
    "... | ... | ... | ...\n",
    "9️⃣ | ✅ WAHR (8 < 10) | i = 8 + 1 ➡️ 9 | i = 9\n",
    "🔟 | ✅ WAHR (9 < 10) | i = 9 + 1 ➡️ 10 | i = 10\n",
    "⏹️ | ❌ FALSCH (10 < 10) | Schleife wird verlassen | i = 10 (Endwert)\n",
    "\n",
    "Die Bedingung ```i < 10``` wird vor jedem Durchlauf geprüft. Bei ```i = 10``` ist ```10 < 10``` falsch und die Schleife bricht ab."
   ]
  },
  {
   "cell_type": "markdown",
   "metadata": {},
   "source": [
    "<a href=\"https://learningview.org/app/#!/\" title=\"Auf zu LearningView! :-)\">![LearningView](00_learningview.png)</a>"
   ]
  },
  {
   "cell_type": "markdown",
   "metadata": {},
   "source": [
    "<p style=\"page-break-after:always;\"></p>\n",
    "\n",
    "## 4.8.2. Übungen zur kopfgesteuerten Schleife"
   ]
  },
  {
   "cell_type": "markdown",
   "metadata": {},
   "source": [
    "### Aufgabe 1\n",
    "Implementiere den folgenden Pseudocode.\n",
    "\n",
    "```shell\n",
    "Eingabe einer Zahl n\n",
    "Setze die Variable Zähler auf 1\n",
    "SOLANGE der Zähler kleiner n ist\n",
    "    Erhöhe Zähler um 0,5\n",
    "Ausgabe des Zählers\n",
    "```"
   ]
  },
  {
   "cell_type": "code",
   "execution_count": 6,
   "metadata": {},
   "outputs": [],
   "source": [
    "# HIER IST PLATZ FÜR DEINE LÖSUNG! :)\n",
    "\n"
   ]
  },
  {
   "cell_type": "markdown",
   "metadata": {},
   "source": [
    "### Aufgabe 2\n",
    "\n",
    "Implementiere das folgende Struktogramm.\n",
    "\n",
    "![Kopfgesteuerte Schleife Aufgabe 2](09_kopfgesteuerte_schleife_aufgabe2.png)\n",
    "\n",
    "**Besonders zu beachten** ist, dass die letzte Anweisung ```n = n + 1``` über die gesamte Breite geht. Das bedeutet, dass diese Anweisung **NICHT MEHR** zur Verzweigung gehört!"
   ]
  },
  {
   "cell_type": "code",
   "execution_count": 7,
   "metadata": {},
   "outputs": [],
   "source": [
    "# HIER IST PLATZ FÜR DEINE LÖSUNG! :)\n",
    "\n"
   ]
  },
  {
   "cell_type": "markdown",
   "metadata": {},
   "source": [
    "<p style=\"page-break-after:always;\"></p>\n",
    "\n",
    "### Aufgabe 3\n",
    "\n",
    "Implementiere das folgende Struktogramm.\n",
    "\n",
    "![Kopfgesteuerte Schleife Aufgabe 3](09_kopfgesteuerte_schleife_aufgabe3.png)\n",
    "\n",
    "**Hinweis:** Damit die Ausgabe innerhalb der Verzweigung fehlerfrei funktioniert muss der Datentyp der Variablen ```x``` und ```y``` entsprechend konvertiert werden."
   ]
  },
  {
   "cell_type": "code",
   "execution_count": 10,
   "metadata": {},
   "outputs": [],
   "source": [
    "# HIER IST PLATZ FÜR DEINE LÖSUNG! :)\n",
    "\n"
   ]
  },
  {
   "cell_type": "markdown",
   "metadata": {},
   "source": [
    "### Aufgabe 4\n",
    "Implementiere ein Programm, welches nach Eingabe einer oberen Grenze, alle Zahlen von $ 0 $ bis $ n $ aufaddiert. \n",
    "\n",
    "Bei der Eingabe der Zahl $ 3 $ ergibt sich beispielsweise das Ergebnis $ 6 $. \n",
    "\n",
    "Gerechnet wird dabei: $ 0+1+2+3=6 $."
   ]
  },
  {
   "cell_type": "code",
   "execution_count": 8,
   "metadata": {},
   "outputs": [],
   "source": [
    "# HIER IST PLATZ FÜR DEINE LÖSUNG! :)\n",
    "\n"
   ]
  },
  {
   "cell_type": "markdown",
   "metadata": {},
   "source": [
    "<a href=\"https://learningview.org/app/#!/\" title=\"Auf zu LearningView! :-)\">![LearningView](00_learningview.png)</a>"
   ]
  },
  {
   "cell_type": "markdown",
   "metadata": {},
   "source": [
    "<hr/>\n",
    "\n",
    "<div style=\"max-width:500px;margin-right: auto; margin-left: auto; text-align:center;\">\n",
    "\n",
    "© Patrick Binkert & Dr. Stephan Matos Camacho | SJ 25 / 26\n",
    "\n",
    "![FooterImage](00_coding@BvC.png)\n",
    "    \n",
    "</div>"
   ]
  }
 ],
 "metadata": {
  "kernelspec": {
   "display_name": "Python 3",
   "language": "python",
   "name": "python3"
  },
  "language_info": {
   "codemirror_mode": {
    "name": "ipython",
    "version": 3
   },
   "file_extension": ".py",
   "mimetype": "text/x-python",
   "name": "python",
   "nbconvert_exporter": "python",
   "pygments_lexer": "ipython3",
   "version": "3.11.9"
  }
 },
 "nbformat": 4,
 "nbformat_minor": 2
}
