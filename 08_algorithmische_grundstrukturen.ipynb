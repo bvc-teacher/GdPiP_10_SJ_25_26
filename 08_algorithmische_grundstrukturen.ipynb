{
 "cells": [
  {
   "cell_type": "markdown",
   "metadata": {},
   "source": [
    "# Kapitel 4: Algorithmische Grundstrukturen und ihre Darstellung\n",
    "\n",
    "Bisher haben wir hauptsächlich Programme gesehen, bei denen der Programmcode Zeile für Zeile nacheinander ausgewertet wird. Mit Hilfe **algorithmischer Grundstrukturen** können wir diesem Verhalten abweichen.\n",
    "\n",
    "**Algorithmische Grundstrukturen steuern dabei den Ablauf eines Programms.** Mit ihnen kannst du Anweisungsblöcke definieren, die nur unter einer bestimmten Bedingung ausgeführt werden oder auch solche, deren Ausführung mehrfach erfolgt. Hierfür unterscheiden wir **Sequenzen**, **Verzweigungen** und **Schleifen**, welche wir uns - inklusiver drei **Darstellungsformen** - nachfolgend genauer anschauen."
   ]
  },
  {
   "cell_type": "markdown",
   "metadata": {},
   "source": [
    "## 4.6. Komplexe Bedingungen\n",
    "\n",
    "Manchmal genügt nicht nur eine einzige Bedingung. \n",
    "\n",
    "In machen Fällen reicht es uns, wenn eine von mehreren Bedingungen erfüllt ist oder es müssen mehrere Bedingungen gleichzeitig erfüllt sein.\n",
    "\n",
    "Zur Umsetzung dessen gibt es **logische Operatoren**. \n",
    "\n",
    "Wir unterscheiden das **logische UND (```&&``` bzw. in Python ```and```)** und das **logische ODER (```||``` bzw. in Python ```or```)**."
   ]
  },
  {
   "cell_type": "markdown",
   "metadata": {},
   "source": [
    "Beim **logischen UND** müssen beide Eingaben wahr sein:\n",
    "\n",
    "Eingabe 1 - ```E1``` | Eingabe 2 - ```E2``` | Ausgabe - ```E1 && E2```\n",
    ":---: | :---: | :---:\n",
    "True | True | True\n",
    "True | False | False\n",
    "False | True | False\n",
    "False | False | False"
   ]
  },
  {
   "cell_type": "markdown",
   "metadata": {},
   "source": [
    "Beim **logischen ODER** muss nur eine der beiden Eingaben wahr sein:\n",
    "\n",
    "Eingabe 1 - ```E1``` | Eingabe 2 - ```E2```| Ausgabe - ```E1 \\|\\| E2```\n",
    ":---: | :---: | :---:\n",
    "True | True | True\n",
    "True | False | True\n",
    "False | True | True\n",
    "False | False | False"
   ]
  },
  {
   "cell_type": "markdown",
   "metadata": {},
   "source": [
    "**Das logische UND in Python:**"
   ]
  },
  {
   "cell_type": "code",
   "execution_count": 30,
   "metadata": {},
   "outputs": [
    {
     "name": "stdout",
     "output_type": "stream",
     "text": [
      "It's a Match!\n"
     ]
    }
   ],
   "source": [
    "thema = 'Programmierung'\n",
    "klasse = 10\n",
    "\n",
    "# Beide Bedingungen müssen wahr (True) sein!\n",
    "if thema == 'Programmierung' and klasse == 10: \n",
    "    print('It\\'s a Match!')\n",
    "else:\n",
    "    print('Bestimmt auch eine gute Kombination!')"
   ]
  },
  {
   "cell_type": "markdown",
   "metadata": {},
   "source": [
    "**Das logische ODER in Python:**"
   ]
  },
  {
   "cell_type": "code",
   "execution_count": 31,
   "metadata": {},
   "outputs": [
    {
     "name": "stdout",
     "output_type": "stream",
     "text": [
      "Juhu! Die Zahl 42 ist am Start!\n"
     ]
    }
   ],
   "source": [
    "zahl1 = 69\n",
    "zahl2 = 42\n",
    "zahl3 = 187\n",
    "\n",
    "# Nur eine der Bedinungen muss wahr (True) sein!\n",
    "if zahl1 == 42 or zahl2 == 42 or zahl3 == 42: \n",
    "    print('Juhu! Die Zahl 42 ist am Start!')\n",
    "else:\n",
    "    print('Leider keine 42 dabei...')"
   ]
  },
  {
   "cell_type": "markdown",
   "metadata": {},
   "source": [
    "## 4.7. Übungen zu komplexen Bedingungen"
   ]
  },
  {
   "cell_type": "markdown",
   "metadata": {},
   "source": [
    "### Aufgabe 1\n",
    "Gib jeweils an, welchen Wert der gegebene boolesche Ausdruck (für $ 𝑎 = 4 $ und $ 𝑏 = 1 $) hat.\n",
    "\n",
    "* ```(a < 5) || (a > 6)``` → ???\n",
    "* ```(a == 3) || (2 == b)``` → ???\n",
    "* ```(b > 1) && (a > 3)``` → ???\n",
    "* ```(a + b < 19) && (b < 1)``` → ???\n",
    "* ```(3 < 5) && (3 > 5)``` → ???"
   ]
  },
  {
   "cell_type": "markdown",
   "metadata": {},
   "source": [
    "### Aufgabe 2\n",
    "Implementiere ein Programm, welches in der Lage ist, nach der Eingabe der Seitenlängen der Seiten $a$, $b$ und $c$ zu entscheiden, ob ein Dreieck gleichschenklig ist.\n",
    "\n",
    "**Hinweis:** Ein Dreieck ist gleichschenklig, wenn die Seiten a und b **ODER** die Seiten b und c **ODER** die Seiten c und a gleich lang sind."
   ]
  },
  {
   "cell_type": "code",
   "execution_count": 6,
   "metadata": {},
   "outputs": [],
   "source": [
    "# HIER IST PLATZ FÜR DEINE LÖSUNG! :)\n"
   ]
  },
  {
   "cell_type": "markdown",
   "metadata": {},
   "source": [
    "### Aufgabe 3\n",
    "Implementiere ein Programm, welches in der Lage ist, nach der Eingabe der Seitenlängen der Seiten $a$, $b$ und $c$ zu entscheiden, ob ein Dreieck rechtwinklig ist.\n",
    "\n",
    "**Hinweis:** Nutze den Satz des Pythagoras. Jede Seite kann die Hypotenuse sein. "
   ]
  },
  {
   "cell_type": "code",
   "execution_count": 7,
   "metadata": {},
   "outputs": [],
   "source": [
    "# HIER IST PLATZ FÜR DEINE LÖSUNG! :)\n"
   ]
  },
  {
   "cell_type": "markdown",
   "metadata": {},
   "source": [
    "<a href=\"https://learningview.org/app/#!/\" title=\"Auf zu LearningView! :-)\">![LearningView](00_learningview.png)</a>"
   ]
  },
  {
   "cell_type": "markdown",
   "metadata": {},
   "source": [
    "<hr/>\n",
    "\n",
    "<div style=\"max-width:500px;margin-right: auto; margin-left: auto; text-align:center;\">\n",
    "\n",
    "© Patrick Binkert & Dr. Stephan Matos Camacho | SJ 25 / 26\n",
    "\n",
    "![FooterImage](00_coding@BvC.png)\n",
    "    \n",
    "</div>"
   ]
  }
 ],
 "metadata": {
  "kernelspec": {
   "display_name": "Python 3",
   "language": "python",
   "name": "python3"
  },
  "language_info": {
   "codemirror_mode": {
    "name": "ipython",
    "version": 3
   },
   "file_extension": ".py",
   "mimetype": "text/x-python",
   "name": "python",
   "nbconvert_exporter": "python",
   "pygments_lexer": "ipython3",
   "version": "3.11.9"
  }
 },
 "nbformat": 4,
 "nbformat_minor": 2
}
