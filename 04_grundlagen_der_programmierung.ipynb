{
 "cells": [
  {
   "cell_type": "markdown",
   "metadata": {},
   "source": [
    "# Kapitel 3: Grundlagen der Programmierung\n",
    "\n",
    "## 3.1. Kommentare\n",
    "Allem vorangestellt ein Hinweis für das Arbeiten in Python bzw. dem Programmieren im Allgemeinen: Zu gegebener Zeit wird es notwendig sein, seinen Code zu kommentieren. Kommentare werden bei der Ausführung des Programms **ignoriert und nicht ausgeführt**. Diese sind nur für den Programmierer oder die Programmiererin sichtbar. In Kommentaren können wir unser Programm mit zusätzlichen Informationen, Gedanken, Erläuterungen, ... versehen, um die Nachvollziehbarkeit - auch nach langer Zeit - zu gewährleisten.\n",
    "\n",
    "__Die Syntax ist hierbei wie folgt:__"
   ]
  },
  {
   "cell_type": "code",
   "execution_count": null,
   "metadata": {},
   "outputs": [],
   "source": [
    "# ein Kommentar"
   ]
  },
  {
   "cell_type": "markdown",
   "metadata": {},
   "source": [
    "Dass es sich tatsächlich um einen Kommentar handelt, erkennt man auch am anderen **Syntax-Highlighting**. "
   ]
  },
  {
   "cell_type": "markdown",
   "metadata": {},
   "source": [
    "## 3.2. Syntax-Highlighting\n",
    "\n",
    "**Syntax-Highlighting** ist eine Funktion von Texteditoren oder Entwicklungsumgebungen (IDEs, zum Beispiel: VS-Code), die Teile des Quellcodes farblich hervorhebt, um dessen Lesbarkeit zu verbessern und die Struktur nachvollziehbarer macht. \n",
    "\n",
    "Verschiedene Bestandteile des Codes werden dabei in unterschiedlichen Farben oder Stilen hervorgehoben, um die verschiedenen syntaktischen Elemente zu unterscheiden. Dies erleichtert die Arbeit beim Programmieren ungemein und kann dabei helfen, Fehler schneller zu erkennen.\n",
    "\n",
    "Typischerweise hebt Syntax-Highlighting folgende Elemente hervor:\n",
    "\n",
    "* **Schlüsselwörter (Keywords):** Diese sind Teil der Programmiersprache, wie ```if```, ```else```, ```while```, etc. Sie werden oft in einer Farbe, wie Blau oder Rot, hervorgehoben.\n",
    "\n",
    "* **Kommentare:** Kommentare im Code, die von der Programmiersprache ignoriert werden, aber für den Entwickler nützlich sind, werden oft in einer anderen Farbe (z. B. Grau oder Grün) angezeigt.\n",
    "\n",
    "* **Zeichenketten (Strings):** Text, der in Anführungszeichen eingeschlossen ist (wie ```'Hello World'```), wird normalerweise in einer anderen Farbe, wie Gelb oder Rot, dargestellt.\n",
    "\n",
    "* **Funktionen und Methoden:** Die Namen von Funktionen und Methoden können ebenfalls hervorgehoben werden, um sie von Variablen und anderen Codeelementen zu unterscheiden.\n",
    "\n",
    "* **Variablen:** Manche Editoren markieren Variablen in einer eigenen Farbe, um sie von Funktionen oder Schlüsselwörtern zu unterscheiden.\n",
    "\n",
    "* **Zahlen und Symbole:** Zahlen und Operatoren wie ```+```, ```-```, ```*```, etc., werden oft ebenfalls in unterschiedlichen Farben dargestellt.\n",
    "\n",
    "**Zusammengefasst:** Syntax-Highlighting erleichtert Entwicklern das Verstehen des Codes, indem es die visuelle Unterscheidung von Syntaxelementen ermöglicht."
   ]
  },
  {
   "cell_type": "markdown",
   "metadata": {},
   "source": [
    "<a href=\"https://learningview.org/app/#!/\" title=\"Auf zu LearningView! :-)\">![LearningView](00_learningview.png)</a>"
   ]
  },
  {
   "cell_type": "markdown",
   "metadata": {},
   "source": [
    "## 3.3. Eingabe, Verarbeitung, Ausgabe und Speicherung (EVAS-Prinzip)\n",
    "\n",
    "### Variablen \n",
    "Variablen sind eines der wichtigsten Elemente in der Programmierung: Sie dienen dem **Speichern von Werten**. \n",
    "\n",
    "Vorstellen kann man sich eine Variable als einen kleinen Bereich im Speicher, dem ein Name gegeben wurde. Dieser Speicherplatz wird nur für diese Variable reserviert. In den meisten höheren Programmiersprachen wird zwischen der **Deklaration** (dem Anlegen der Variablen) und der **Initialisierung** (dem ersten Belegen mit einem Wert) einer Variable unterschieden. In Python existieren Variablen nur durch **Zuweisung**, also Initialisierung. Deshalb spricht man davon, dass eine Variable durch die erste Zuweisung gleichzeitig **deklariert und initialisiert** wird.\n",
    "\n",
    "Der nachfolgende Code-Block zeigt eine solche Zuweisung. Die Variable mit dem Namen ```ich_bin_eine_variable``` wird deklariert und im gleichen Atemzug mit dem Wert ```42``` initialisiert."
   ]
  },
  {
   "cell_type": "code",
   "execution_count": null,
   "metadata": {},
   "outputs": [],
   "source": [
    "ich_bin_eine_variable = 42"
   ]
  },
  {
   "cell_type": "markdown",
   "metadata": {},
   "source": [
    "Aber wie genau funktioniert eine **Zuweisung**? \n",
    "\n",
    "Variablenzuweisungen folgen diesem Schema:  \n",
    "\n",
    "``` Variable = Ausdruck ```   \n",
    "``` <<<---------------- ```   \n",
    "\n",
    "Rechts vom Gleichheitszeichen steht ein Ausdruck. Dieser wird ausgewertet und zu einem Wert. Links vom Gleichheitszeichen steht der Name der Variable. Die Zuweisung erfolgt also immer von rechts nach links - **nicht umgekehrt**! Der Ausdruck auf der rechten Seite kann im einfachsten Fall eine Zahl, eine Zeichenkette oder wiederum eine Variable sein, später werden wir auch komplexere Ausdrücke kennenlernen.\n",
    "\n",
    "__Hinweis:__ Speicherplatz kostet heutzutage so gut wie kein Geld mehr. Daher sind Variablennamen so zu wählen, dass einem unbeteiligten Dritten klar wird, was darin gespeichert ist. Man sollte man also nicht an der falschen Stelle sparen. Gute Lesbarkeit von Code zeichnet einen guten Programmierer oder eine Programmiererin im Besonderen aus! \n",
    "\n",
    "__Beispiel für einen schlechten Variablennamen:__ `sn = 'Mustermann'`\n",
    "\n",
    "__Beispiel für einen guten Variablennamen:__ `schueler_nachname = 'Mustermann'`\n",
    "\n",
    "Entsprechend der Python Enhancement Proposals (kurz: PEPs) - quasi Vorgaben zur Programmierung mit Python - ist im [PEP8](https://peps.python.org/pep-0008/#function-and-variable-names) vorgeschrieben, wie Variablen benannt werden sollten. Dabei wird der **Snake Case** als Namenskonvention festgelegt. Dabei werden alle Worte in Kleinbuchstaben geschrieben (engl.: lowercase) und alle potenztiellen Leerzeichen mit Unterstrichen ```_``` ersetzt (engl.: underscores). Sonderzeichen **dürfen nicht** verwendet werden. Variablennamen **dürfen nicht** mit Zahlen beginnen. \n",
    "\n",
    "Eine kleine Gedankenstütze zur Namenskonvention ist die Programmiersprache selbst. Diese heißt `Python`. Und Pythons sind Schlangen. Also: **Snake Case**.\n",
    "\n",
    "Bei der Programmierung - in zum Beispiel anderen Programmiersprachen - gibt es auch andere Namenskonventionen. Zum Beispiel:"
   ]
  },
  {
   "cell_type": "code",
   "execution_count": null,
   "metadata": {},
   "outputs": [],
   "source": [
    "schuelerNachname = 'Mustermann'"
   ]
  },
  {
   "cell_type": "markdown",
   "metadata": {},
   "source": [
    "Auffällig an diesem Beispiel ist, dass das `N` von `Nachname` groß geschrieben ist. Diese Schreibweise nennt man __`camelCase`__. Dabei handelt es sich um eine Praxis des Schreibens von Phrasen ohne Leerzeichen, Trennzeichen oder anderen Interpunktionen. Gängige Beispiele kennt ihr aus dem Alltag. Zum Beispiel: \"YouTube\", \"iPhone\" und \"eBay\". Camel Case wird oft als Namenskonvention in der Programmierung (Java, JavaScript, PHP, ...) verwendet. Es wird auch manchmal in Online-Benutzernamen wie \"JohnSmith\" verwendet oder um mehrwortige Domainnamen lesbarer zu machen, zum Beispiel bei der Werbung für \"EasyWidgetCompany.com\"."
   ]
  },
  {
   "cell_type": "markdown",
   "metadata": {},
   "source": [
    "Im nachfolgenden halten wir uns konsequent an die **Snake Case**-Schreibweise."
   ]
  },
  {
   "cell_type": "markdown",
   "metadata": {},
   "source": [
    "### Datentypen\n",
    "Eine Variable speichert Werte (auch: Literals). Bei diesen zu speichernden Werten unterscheiden wir **Datentypen**. Ein Datentyp ist ein Schema für die Speicherung von Daten. Dabei wird festgelegt, wie und in welcher Art und Weise die Bits gespeichert werden. \n",
    "\n",
    "__Wir unterscheiden zunächst nur die nachfolgenden *primitiven* Datentypen:__\n",
    "\n",
    "Bezeichnung | Kurzform | Bedeutung | Beispiel(e) | Hinweis\n",
    "-------- | -------- | -------- | -------- | --------\n",
    "integer | int | ganze Zahlen | `3` | -\n",
    "float | float | gebrochene Zahl bzw. Gleitkommazahl | `3.1`, `4.2` | Kommas werden in **ENGLISCHER** Notation als **Dezimalpunkt** geschrieben!\n",
    "string | str | Zeichenkette | `'Hallo'`, `'Test'`, `'Test123'` | Zeichenketten werden mit einfachen '' oder doppelten Hochkommas \"\" angegeben. Einzelne Hochkommas sind dabei der Standard! Zahlen in doppelten oder einfachen Hochkommas werden als Zeichenketten interpretiert. Die Hochkommas dürfen **nicht gemischt** verwendet werden.\n",
    "boolean | bool | boolesche Werte / Wahrheitswerte | `True` oder `False` | Beide Worte werden jeweils mit einem großen Anfangsbuchstaben geschrieben!\n",
    "none | none | der \"Nichts\"-Datentyp | `None` | Auch hier wird der Wert mit einem großen Anfangsbuchstaben geschrieben! \n",
    "\n",
    "Möchte man herausfinden, welchen Datentyp eine Variable speichert, so kann man die Pythonfunktion ```type(variable)``` verwenden. Nachfolgend findest du zwei Beispiele. Klicke in die Code-Blöcke hinein und führe diese über den Play-Button aus. Es wird eine Ausgabe erzeugt."
   ]
  },
  {
   "cell_type": "code",
   "execution_count": null,
   "metadata": {},
   "outputs": [],
   "source": [
    "super_tolle_variable = 420.187\n",
    "type(super_tolle_variable)"
   ]
  },
  {
   "cell_type": "code",
   "execution_count": null,
   "metadata": {},
   "outputs": [],
   "source": [
    "auch_eine_sehr_gute_variable = 'BvC'\n",
    "type(auch_eine_sehr_gute_variable)"
   ]
  },
  {
   "cell_type": "markdown",
   "metadata": {},
   "source": [
    "### Ausgaben\n",
    "Damit ein Python-Programm etwas in der Konsole ausgibt, wird der Befehl ```print()``` verwendet."
   ]
  },
  {
   "cell_type": "code",
   "execution_count": null,
   "metadata": {},
   "outputs": [],
   "source": [
    "test = 'Ich bin ein Test'\n",
    "print(test)\n",
    "print('--- (hoffentlich) erfolgreich ---')"
   ]
  },
  {
   "cell_type": "markdown",
   "metadata": {},
   "source": [
    "Dabei kann nicht nur eine einzige Variable ausgegeben werden, sondern auch beliebig viele Texte und Variablen. Variante eins ist dabei das Trennen durch Kommas."
   ]
  },
  {
   "cell_type": "code",
   "execution_count": null,
   "metadata": {},
   "outputs": [],
   "source": [
    "variable_eins = 'No'\n",
    "variable_zwei = 'mercy'\n",
    "print(variable_eins, 'Backup,', 'no', variable_zwei, '.')"
   ]
  },
  {
   "cell_type": "markdown",
   "metadata": {},
   "source": [
    "Es fällt auf, dass nach jedem Argument automatisch ein Leerzeichen in der Ausgabe erzeugt wird. Dadurch erscheint zwischen „mercy“ und dem abschließenden Punkt ein (unerwünschtes) Leerzeichen."
   ]
  },
  {
   "cell_type": "markdown",
   "metadata": {},
   "source": [
    "Zur besseren Verbindung von Variablen und Text - ohne Leerzeichen-Probleme - kann der sogenannte `F-String` genutzt werden. Dies ist eine Notation, die es ermöglicht, Text und Variablen elegant und nachvollziehbar bei der Ausgabe miteinander zu verbinden. Dazu wird der Ausgabe ein kleines `f` vorangestellt und die einzufügende Variable in **geschweifte Klammern** geschrieben."
   ]
  },
  {
   "cell_type": "code",
   "execution_count": null,
   "metadata": {},
   "outputs": [],
   "source": [
    "ergebnis = 42\n",
    "print(f'Die Antwort auf alles im Universum ist: {ergebnis}')"
   ]
  },
  {
   "cell_type": "markdown",
   "metadata": {},
   "source": [
    "### Eingabe\n",
    "Damit Nutzerinnen und Nutzer auch Eingaben tätigen können, steht in Python der ```input()```-Befehl zur Verfügung. Wenn du den Code ausführst, öffnet sich im oberen Bereich von Visual Studio Code ein Eingabefenster. Dort kannst du die Eingabe tätigen und deine Eingabe mit der Enter-Taste bestätigen."
   ]
  },
  {
   "cell_type": "code",
   "execution_count": null,
   "metadata": {},
   "outputs": [],
   "source": [
    "eingabe = input('Bitte gib deinen Namen ein: ')\n",
    "print(f'{eingabe}? Toller Name! Viel Spaß beim Programmieren lernen! :-)')"
   ]
  },
  {
   "cell_type": "markdown",
   "metadata": {},
   "source": [
    "Dabei ist zu beachten, dass eine Eingabe __IMMER__ und __AUSSCHLIESSLICH__ vom Typ `string` ist. Sollte man beispielsweise mit den Eingaben der Nutzerinnen und Nutzer rechnen wollen, so __muss__ in den benötigten Datentyp konvertiert werden. Dazu stehen in Python ebenfalls entsprechende Funktionen bereit. Mehr dazu im folgenden Abschnitt."
   ]
  },
  {
   "cell_type": "markdown",
   "metadata": {},
   "source": [
    "### Konvertierung von Datentypen (oder \"Typisierung\")\n",
    "\n",
    "Mit Zeichenketten kann man im Allgemeinen nur schlecht rechnen. Soll der Nutzer oder die Nutzerin eine Zahl eingeben, so steht man erstmal vor einem Problem(chen). Die nachfolgenden Beispiele zeigen dir, wie man den Datentyp einer Variable verändern kann. \n",
    "\n",
    "__Konvertierung zu einer Zeichenkette:__"
   ]
  },
  {
   "cell_type": "code",
   "execution_count": null,
   "metadata": {},
   "outputs": [],
   "source": [
    "variable = 5\n",
    "string_variable = str(variable)\n",
    "print(string_variable, type(string_variable))"
   ]
  },
  {
   "cell_type": "markdown",
   "metadata": {},
   "source": [
    "__Konvertierung zu einer ganzen Zahl:__"
   ]
  },
  {
   "cell_type": "code",
   "execution_count": null,
   "metadata": {},
   "outputs": [],
   "source": [
    "variable = '2'\n",
    "int_variable = int(variable)\n",
    "print(int_variable, type(int_variable))"
   ]
  },
  {
   "cell_type": "markdown",
   "metadata": {},
   "source": [
    "__Konvertierung zu einer Gleitkommazahl:__"
   ]
  },
  {
   "cell_type": "code",
   "execution_count": null,
   "metadata": {},
   "outputs": [],
   "source": [
    "variable = '1.1'\n",
    "float_variable = float(variable)\n",
    "print(float_variable, type(float_variable))"
   ]
  },
  {
   "cell_type": "markdown",
   "metadata": {},
   "source": [
    "__Konvertierung zu einem Boolesches Wert / Wahrheitswert:__"
   ]
  },
  {
   "cell_type": "code",
   "execution_count": null,
   "metadata": {},
   "outputs": [],
   "source": [
    "variable = '1'\n",
    "bool_variable = bool(variable)\n",
    "print(bool_variable, type(bool_variable))"
   ]
  },
  {
   "cell_type": "markdown",
   "metadata": {},
   "source": [
    "Nutzt man den Datentyp ```float``` bei der Ausgabe und will sie mittels + an einen String anfügen, muss man den Float zuerst explizit mittels ```str()``` in einen String umwandeln. Nutzt man das Komma, ist dies unproblematisch."
   ]
  },
  {
   "cell_type": "code",
   "execution_count": null,
   "metadata": {},
   "outputs": [],
   "source": [
    "a = 1.2\n",
    "\n",
    "print('Ausgabe: ', a) # kein Fehler\n",
    "print('Ausgabe: ' + str(a)) # kein Fehler\n",
    "print('Ausgabe: ' + a) # Fehler"
   ]
  },
  {
   "cell_type": "markdown",
   "metadata": {},
   "source": [
    "## Rechenoperationen und Operatoren\n",
    "\n",
    "Operator | Bezeichnung | &nbsp;&nbsp;&nbsp;&nbsp;&nbsp;&nbsp;&nbsp;&nbsp;&nbsp;&nbsp;&nbsp;&nbsp;Beispiel&nbsp;&nbsp;&nbsp;&nbsp;&nbsp;&nbsp;&nbsp;&nbsp;&nbsp;&nbsp;&nbsp;&nbsp; | Hinweis\n",
    ":-: | :-: | :-: | :-:\n",
    "`+` | Addition | `zahl = a + b` | Bei Zeichenketten bewirkt die \"Addition\" eine Verbindung zweier Zeichenketten,  so würde aus `'Teil1' + 'Teil2'` ein zusammengesetzter String `'Teil1Teil2'` entstehen.\n",
    "`-` | Subtraktion | `ergebnis = a - b` | -\n",
    "`*` | Multiplikation | `ergebnis = a * b` | Bei Zeichenketten kann eine Multiplikation mit einer ganzen Zahl dafür sorgen, <br/>dass ein Vielfaches der Zeichenkette erzeugt wird. Zum Beispiel würde `'a' * 4` den String `aaaa` erzeugen.\n",
    "`/` | Division | `ergebnis = a / b` | Das Ergebnis einer Division ist immer vom Typ `float`.\n",
    "`//` | Ganzzahldivision | `ergebnis = a // b` | Gibt als Ergebnis zurück, wie oft sich eine Zahl ganzzahlig teilen lässt.\n",
    "`%` | Modulo / Restklassendivison | `ergebnis = a % b` | Gibt den verbleibenden Rest bei ganzzahliger Divison zurück.\n",
    "`**` | Potenz | `quadrat = a**2` | In diesem Beispiel wird die Quadratzahl berechnet. Alle anderen Exponenten sind ebenfalls denkbar.\n",
    "`or` | Logisches ODER | `a or b` | Vergleicht zwei boolesche Werte. Wenn einer von beiden den Wahrheitswert `True` hat, gibt or ebenfalls `True` zurück.\n",
    "`and` | Logisches UND | `a and b` | Vergleicht zwei boolesche Werte. Beide Werte müssen den Wahrheitswert `True` haben, sonst gibt and `False` zurück.\n",
    "`not` | Logisches NICHT | `not a` | Kehrt den booleschen Wert um. Aus einem `True` wird ein `False` und umgekehrt.\n",
    "`<` | kleiner als | `a < b` | Gibt `True` zurück, wenn der Vergleich zutrifft, sonst `False`.\n",
    "`<=` | kleiner gleich | `a <= b` | Gibt `True` zurück, wenn der Vergleich zutrifft, sonst `False`.\n",
    "`>` | größer | `a > b` | Gibt `True` zurück, wenn der Vergleich zutrifft, sonst `False`.\n",
    "`>=` | größer gleich | `a >= b` | Gibt `True` zurück, wenn der Vergleich zutrifft, sonst `False`.\n",
    "`!=` | ungleich | `a != b` | Gibt `True` zurück, wenn die Werte verschieden sind, sonst `False`.\n",
    "`==` | gleich | `a == b` | Gibt `True` zurück, wenn die Werte gleich sind, sonst `False`.\n"
   ]
  },
  {
   "cell_type": "markdown",
   "metadata": {},
   "source": [
    "### <span style=\"color:red; font-weight: bolder\">⚠️ Hinweis zum Schreibstil ⚠️</span>\n",
    "\n",
    "Es ist üblich zwischen Rechenoperationen, Operatoren, Variablen und dem Gleichheitszeichen __IMMER__ ein Leerzeichen zu setzen. So wie es in obiger Tabelle und in allen vorangegangenen Beispielen konsequent umgesetzt wurde. \n",
    "\n",
    "Das erhöht die Lesbarkeit deutlich und erleichtert das Verständnis des Programmcodes."
   ]
  },
  {
   "cell_type": "markdown",
   "metadata": {},
   "source": [
    "<a href=\"https://learningview.org/app/#!/\" title=\"Auf zu LearningView! :-)\">![LearningView](00_learningview.png)</a>"
   ]
  },
  {
   "cell_type": "markdown",
   "metadata": {},
   "source": [
    "<hr/>\n",
    "\n",
    "<div style=\"max-width:500px;margin-right: auto; margin-left: auto; text-align:center;\">\n",
    "\n",
    "© Patrick Binkert, Dr. Stephan Matos Camacho\n",
    "\n",
    "![FooterImage](00_coding@BvC.png)\n",
    "    \n",
    "</div>"
   ]
  }
 ],
 "metadata": {
  "kernelspec": {
   "display_name": "Python 3",
   "language": "python",
   "name": "python3"
  },
  "language_info": {
   "codemirror_mode": {
    "name": "ipython",
    "version": 3
   },
   "file_extension": ".py",
   "mimetype": "text/x-python",
   "name": "python",
   "nbconvert_exporter": "python",
   "pygments_lexer": "ipython3",
   "version": "3.11.9"
  }
 },
 "nbformat": 4,
 "nbformat_minor": 2
}
