{
 "cells": [
  {
   "cell_type": "markdown",
   "metadata": {},
   "source": [
    "# Kapitel 4: Algorithmische Grundstrukturen und ihre Darstellung\n",
    "\n",
    "Bisher haben wir hauptsächlich Programme gesehen, bei denen der Programmcode Zeile für Zeile nacheinander ausgewertet wird. Mit Hilfe **algorithmischer Grundstrukturen** können wir diesem Verhalten abweichen.\n",
    "\n",
    "**Algorithmische Grundstrukturen steuern dabei den Ablauf eines Programms.** Mit ihnen könnt ihr Anweisungsblöcke definieren, die nur unter einer bestimmten Bedingung ausgeführt werden oder auch solche, deren Ausführung mehrfach erfolgt. Hierfür unterscheiden wir **Sequenzen**, **Verzweigungen** und **Schleifen**, welche wir uns - inklusiv dreier **Darstellungsformen** - nachfolgend genauer anschauen."
   ]
  },
  {
   "cell_type": "markdown",
   "metadata": {},
   "source": [
    "## 4.8.3. Fußgesteuerte Schleife\n",
    "\n",
    "Bei der **fußgesteuerten Schleife** wird eine Sequenz so lange wiederholt ausgeführt, **bis eine Bedingung (am Ende der Schleife) erfüllt ist**.\n",
    "\n",
    "Im **Pseudocode** könnte man exemplarisch folgendes formulieren:\n",
    "\n",
    "```shell\n",
    "WIEDERHOLE \n",
    "    ergebnis = ergebnis + 1\n",
    "    zaehler = zaehler + 1 \n",
    "BIS zaehler >= 5\n",
    "```\n",
    "\n",
    "Am Ende eines jeden Schleifendurchlaufs wird nun überprüft, ob die Schleifenbedingung gültig ist. \n",
    "\n",
    "Ist dies **nicht der Fall**, wird die Schleife erneut durchlaufen. **Ist die Bedingung jedoch gültig, wird die Wiederholung abgebrochen.**\n",
    "\n",
    "Da die Bedingung erst am Ende jedes Schleifendurchlaufs überprüft wird, wird so eine Schleife **immmer mindestens einmal ausgeführt**, selbst wenn die Bedingung bereits zu Beginn erfüllt war.\n",
    "\n",
    "An sich gibt es diese Struktur in Python nicht. Allerdings können wir sie uns konstruieren:   \n",
    "Mit Hilfe einer **Verzweigung** überprüfen wir, ob die Schleifenbedingung gültig ist. Wenn wir mit der Verzweigung feststellen, dass die Schleifenbedingung endlich gültig ist, können wir mit dem Schlüsselwort ```break``` die wiederholte Ausführung der Schleife verhindern und diese abbrechen. \n",
    "\n",
    "Damit die Schleife allerdings überhaupt wiederholt ausgeführt werden kann, ist die eigentliche Bedingung hinter dem ```WHILE```-Schlüsselwort ```True```."
   ]
  },
  {
   "cell_type": "markdown",
   "metadata": {},
   "source": [
    "<p style=\"page-break-after:always;\"></p>\n",
    "\n",
    "**Programmcode:**"
   ]
  },
  {
   "cell_type": "code",
   "execution_count": null,
   "metadata": {},
   "outputs": [],
   "source": [
    "zaehler = 0\n",
    "ergebnis = 0\n",
    "while True:\n",
    "    ergebnis = ergebnis + 1\n",
    "    zaehler = zaehler + 1\n",
    "    if zaehler >= 5:\n",
    "        break"
   ]
  },
  {
   "cell_type": "markdown",
   "metadata": {},
   "source": [
    "**Struktogramm:**\n",
    "\n",
    "![Struktogramm](10_fussgesteuerte_schleife.png)"
   ]
  },
  {
   "cell_type": "markdown",
   "metadata": {},
   "source": [
    "Die Darstellung ist ähnlich zur kopfgesteuerten Schleife, allerdings steht die Bedingung nun unten."
   ]
  },
  {
   "cell_type": "markdown",
   "metadata": {},
   "source": [
    "**Hinweise zum Code einer fußgesteuerten Schleife:**\n",
    "\n",
    "* Jede fußgesteuerte Schleife beginnt mit dem Schlüsselwort ```while```.\n",
    "* Statt einer Bedingung folgt nach ```while``` das Schlüsselwort ```True```. Dies entspricht in ```PYTHON``` dem Wahrheitswert (Boolean) wahr, d. h. statt eine Bedingung zu überprüfen, wird hier sofort das Ergebnis einer solchen Bedingung angegeben: ```True```. Theoretisch würde diese Schleife also nie abbrechen.\n",
    "* Der Schleifenkörper funktioniert analog zu einer normalen kopfgesteuerten Schleife: alle innerhalb eines Schleifendurchlaufs auszuführenden Anweisungen müssen gleich weit eingerückt werden.\n",
    "* Die Überprüfung der Endbedingung erfolgt mittels einer Verzweigung. Ist die angegebene Bedingung erfüllt, wird die Anweisung break ausgeführt. Dies bewirkt einen Abbruch der gesamten Schleife. Nach dem Abbruch wird wie gewohnt die erste nicht eingerückte Anweisung ausgeführt."
   ]
  },
  {
   "cell_type": "markdown",
   "metadata": {},
   "source": [
    "<p style=\"page-break-after:always;\"></p>\n",
    "\n",
    "**Beispiel 1 - Wiederholte Satzausgabe:**"
   ]
  },
  {
   "cell_type": "code",
   "execution_count": null,
   "metadata": {},
   "outputs": [],
   "source": [
    "satz = input(\"Welcher Satz soll wiederholt ausgegeben werden? \")\n",
    "eingabe = input(\"Wie oft soll der Satz ausgegeben werden? \")\n",
    "anzahl = int(eingabe)\n",
    "i = 1\n",
    "\n",
    "if anzahl > 0:\n",
    "    while True:\n",
    "        print(satz)\n",
    "        i += 1\n",
    "        if i > anzahl:\n",
    "            break\n",
    "\n",
    "print(\"Damit ist das Programm beendet.\")\n",
    "\n",
    "# FÜHRE MICH AUS! :)"
   ]
  },
  {
   "cell_type": "markdown",
   "metadata": {},
   "source": [
    "**Beispiel 2 - Alle gerade Zahlen von 0 bis 10:**"
   ]
  },
  {
   "cell_type": "code",
   "execution_count": null,
   "metadata": {},
   "outputs": [],
   "source": [
    "n = 0\n",
    "while True:\n",
    "    print(n)\n",
    "    n = n + 2\n",
    "    if n > 10:\n",
    "        break\n",
    "\n",
    "# FÜHRE MICH AUS! :)"
   ]
  },
  {
   "cell_type": "markdown",
   "metadata": {},
   "source": [
    "<p style=\"page-break-after:always;\"></p>\n",
    "\n",
    "**Das Schlüsselwort ```break```:**   \n",
    "Das Schlüsselwort ```break``` wird nicht nur in fußgesteuerten Schleifen genutzt. Mit Hilfe dieses Schlüsselworts kann **jede beliebige Art von Schleife** abgebrochen werden. Nachfolgend ist dies anhand der kopfgesteuerten Schleife visualisiert."
   ]
  },
  {
   "cell_type": "code",
   "execution_count": null,
   "metadata": {},
   "outputs": [],
   "source": [
    "eingabe = -1\n",
    "i = 0\n",
    "n = 2\n",
    "while i < n:\n",
    "    if eingabe < i:\n",
    "        break\n",
    "    eingabe = eingabe + (i * n)\n",
    "    i = i + 1\n",
    "print(eingabe)\n",
    "\n",
    "# FÜHRE MICH AUS! :)"
   ]
  },
  {
   "cell_type": "markdown",
   "metadata": {},
   "source": [
    "<a href=\"https://learningview.org/app/#!/\" title=\"Auf zu LearningView! :-)\">![LearningView](00_learningview.png)</a>"
   ]
  },
  {
   "cell_type": "markdown",
   "metadata": {},
   "source": [
    "<p style=\"page-break-after:always;\"></p>\n",
    "\n",
    "## 4.8.4. Übungen zur fußgesteuerten Schleife\n",
    "\n",
    "### Aufgabe 1\n",
    "\n",
    "Implementiere den folgenden Pseudocode.\n",
    "\n",
    "```shell\n",
    "Eingabe einer Zahl n\n",
    "Setze die Variable Zähler auf 1\n",
    "WIEDERHOLE \n",
    "    Erhöhe Zähler um 0,5\n",
    "BIS der Zähler größer n ist\n",
    "Ausgabe des Zählers\n",
    "```"
   ]
  },
  {
   "cell_type": "code",
   "execution_count": null,
   "metadata": {},
   "outputs": [],
   "source": [
    "# HIER IST PLATZ FÜR DEINE LÖSUNG! :)\n",
    "\n"
   ]
  },
  {
   "cell_type": "markdown",
   "metadata": {},
   "source": [
    "<p style=\"page-break-after:always;\"></p>\n",
    "\n",
    "### Aufgabe 2\n",
    "\n",
    "Implementiere das folgende Struktogramm."
   ]
  },
  {
   "cell_type": "markdown",
   "metadata": {},
   "source": [
    "![Struktogramm](10_fussgesteuerte_schleife_aufgabe2.png)"
   ]
  },
  {
   "cell_type": "markdown",
   "metadata": {},
   "source": [
    "Zu beachten ist, dass die letzte Anweisung ```n = n + 1``` über die gesamte Breite geht. Das heißt, dass diese Anweisung **NICHT MEHR** zur Verzweigung gehört!"
   ]
  },
  {
   "cell_type": "code",
   "execution_count": null,
   "metadata": {},
   "outputs": [],
   "source": [
    "# HIER IST PLATZ FÜR DEINE LÖSUNG! :)\n",
    "\n"
   ]
  },
  {
   "cell_type": "markdown",
   "metadata": {},
   "source": [
    "<p style=\"page-break-after:always;\"></p>\n",
    "\n",
    "### Aufgabe 3\n",
    "\n",
    "Implementiere ein Programm, welches nach Eingabe einer oberen Grenze $ n $, alle Zahlen von $ 0 $ bis $ n $ aufaddiert.   \n",
    "\n",
    "Bei der Eingabe der Zahl $ 3 $ ergibt sich beispielsweise das Ergebnis $ 6 $. \n",
    "\n",
    "Gerechnet wird dabei: \n",
    "$ 0 + 1 + 2 + 3 = 6 $.\n",
    "\n",
    "Implementiere deine Lösung **zwingend** mit Hilfe einer **fußgesteuerten Schleife**!"
   ]
  },
  {
   "cell_type": "code",
   "execution_count": null,
   "metadata": {},
   "outputs": [],
   "source": [
    "# HIER IST PLATZ FÜR DEINE LÖSUNG! :)\n",
    "\n"
   ]
  },
  {
   "cell_type": "markdown",
   "metadata": {},
   "source": [
    "<p style=\"page-break-after:always;\"></p>\n",
    "\n",
    "### Aufgabe 4\n",
    "\n",
    "Implementiere ein Programm, welches den Benutzer auffordert, eine Zahl zu erraten.   \n",
    "\n",
    "Die fußgesteuerte Schleife soll so lange fortgesetzt werden, bis der Benutzer die richtige Zahl erraten hat. \n",
    "\n",
    "Gib dem Benutzer nach jeder Eingabe eine Rückmeldung, ob die Zahl zu hoch oder zu niedrig ist.\n",
    "\n",
    "**Hinweis:** Verwende eine feste Zahl im Code, die der Benutzer erraten muss."
   ]
  },
  {
   "cell_type": "code",
   "execution_count": null,
   "metadata": {},
   "outputs": [],
   "source": [
    "# HIER IST PLATZ FÜR DEINE LÖSUNG! :)\n",
    "\n"
   ]
  },
  {
   "cell_type": "markdown",
   "metadata": {},
   "source": [
    "<p style=\"page-break-after:always;\"></p>\n",
    "\n",
    "### Aufgabe 5\n",
    "\n",
    "Implementiere ein Programm, welches die Zahlwörter eins, zwei, ... , sechs so oft ausgibt, wie es das Wort aussagt, also eins einmal, zwei zweimal.\n",
    "\n",
    "Implementiere deine Lösung mit Hilfe einer **fußgesteuerten Schleife**! Ein **korrekt funktionierendes Programm** erzeugt die folgende Ausgabe:\n",
    "\n",
    "```\n",
    "eins \n",
    "zwei zwei \n",
    "drei drei drei \n",
    "vier vier vier vier \n",
    "fünf fünf fünf fünf fünf \n",
    "sechs sechs sechs sechs sechs sechs \n",
    "```"
   ]
  },
  {
   "cell_type": "code",
   "execution_count": null,
   "metadata": {},
   "outputs": [],
   "source": [
    "# HIER IST PLATZ FÜR DEINE LÖSUNG! :)\n",
    "\n"
   ]
  },
  {
   "cell_type": "markdown",
   "metadata": {},
   "source": [
    "<p style=\"page-break-after:always;\"></p>\n",
    "\n",
    "<hr/>\n",
    "\n",
    "<div style=\"max-width:500px;margin-right: auto; margin-left: auto; text-align:center;\">\n",
    "\n",
    "© Patrick Binkert & Dr. Stephan Matos Camacho | SJ 25 / 26\n",
    "\n",
    "![FooterImage](00_coding@BvC.png)\n",
    "    \n",
    "</div>"
   ]
  }
 ],
 "metadata": {
  "kernelspec": {
   "display_name": "Python 3",
   "language": "python",
   "name": "python3"
  },
  "language_info": {
   "codemirror_mode": {
    "name": "ipython",
    "version": 3
   },
   "file_extension": ".py",
   "mimetype": "text/x-python",
   "name": "python",
   "nbconvert_exporter": "python",
   "pygments_lexer": "ipython3",
   "version": "3.12.10"
  }
 },
 "nbformat": 4,
 "nbformat_minor": 2
}
