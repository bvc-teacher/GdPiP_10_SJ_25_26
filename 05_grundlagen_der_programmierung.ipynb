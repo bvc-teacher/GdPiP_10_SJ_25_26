{
 "cells": [
  {
   "cell_type": "markdown",
   "metadata": {},
   "source": [
    "# Kapitel 3: Grundlagen der Programmierung\n",
    "\n",
    "## 3.4. Übungsaufgaben\n",
    "\n",
    "### Aufgabe 1\n",
    "\n",
    "Nachfolgend wird an mehreren Beispielen die Deklaration, Initialisierung, sowie Neu- und Wiederbelegung einer Variable gezeigt. __Deine Aufgabe soll es sein, den Wert und den Datentyp der benannten Variable am Ende des kleinen Programms zu bestimmen.__ Versuche zunächst, dies ohne Ausführung des Codes zu lösen, also nur durch zeilenweises Nachvollziehen des Programms."
   ]
  },
  {
   "cell_type": "code",
   "execution_count": null,
   "metadata": {},
   "outputs": [],
   "source": [
    "number = 1\n",
    "number = number + 5\n",
    "number = number * 2\n",
    "number = number % 12\n",
    "print(number, type(number))"
   ]
  },
  {
   "cell_type": "markdown",
   "metadata": {},
   "source": [
    "__Welchen Wert und Datentyp hat die Variable `number`?__ \n",
    "\n",
    "* Wert: ... deine Antwort hier ...\n",
    "* Datentyp: ... deine Antwort hier ..."
   ]
  },
  {
   "cell_type": "code",
   "execution_count": null,
   "metadata": {},
   "outputs": [],
   "source": [
    "number = '1.23'\n",
    "number = float(number)\n",
    "text = int(number)\n",
    "neuer_text = text * 5\n",
    "neuer_text = str(neuer_text)\n",
    "\n",
    "print(neuer_text, type(neuer_text))"
   ]
  },
  {
   "cell_type": "markdown",
   "metadata": {},
   "source": [
    "__Welchen Wert und Datentyp hat die Variable `neuerText`?__ \n",
    "\n",
    "* Wert: ... deine Antwort hier ...\n",
    "* Datentyp: ... deine Antwort hier ..."
   ]
  },
  {
   "cell_type": "code",
   "execution_count": null,
   "metadata": {},
   "outputs": [],
   "source": [
    "irgendwas = 'Hallo Schüler(in)'\n",
    "wie_gehts = ' - wie geht es dir heute?'\n",
    "text = wie_gehts + irgendwas\n",
    "text = text * 2\n",
    "text = 2\n",
    "text = irgendwas * text\n",
    "\n",
    "print(text, type(text))"
   ]
  },
  {
   "cell_type": "markdown",
   "metadata": {},
   "source": [
    "__Welchen Wert und Datentyp hat die Variable `text`?__ \n",
    "\n",
    "* Wert: ... deine Antwort hier ...\n",
    "* Datentyp: ... deine Antwort hier ..."
   ]
  },
  {
   "cell_type": "code",
   "execution_count": null,
   "metadata": {},
   "outputs": [],
   "source": [
    "nutzereingabe = 2\n",
    "nutzereingabe = nutzereingabe**2\n",
    "nutzereingabe = nutzereingabe // 3\n",
    "nutzereingabe = nutzereingabe * 10\n",
    "ausgabe = 'Das Ergebnis ist: ' + str(nutzereingabe)\n",
    "\n",
    "print(ausgabe, type(ausgabe))"
   ]
  },
  {
   "cell_type": "markdown",
   "metadata": {},
   "source": [
    "__Welchen Wert und Datentyp hat die Variable `ausgabe`?__ \n",
    "\n",
    "* Wert: ... deine Antwort hier ...\n",
    "* Datentyp: ... deine Antwort hier ..."
   ]
  },
  {
   "cell_type": "markdown",
   "metadata": {},
   "source": [
    "### Aufgabe 2\n",
    "\n",
    "In der nachfolgenden Tabelle sind diverse Werte vorgegeben. Anhand dieser Werte sollst du ausprobieren, wie sich verschiedene Datentypisierungen auswirken. Dazu kannst du die folgende Programmstruktur nutzen. "
   ]
  },
  {
   "cell_type": "code",
   "execution_count": 2,
   "metadata": {},
   "outputs": [
    {
     "name": "stdout",
     "output_type": "stream",
     "text": [
      "1.2 <class 'float'>\n",
      "1 <class 'int'>\n"
     ]
    }
   ],
   "source": [
    "variable = 1.2\n",
    "print(variable, type(variable))\n",
    "aenderung = int(variable)\n",
    "print(aenderung, type(aenderung))"
   ]
  },
  {
   "cell_type": "markdown",
   "metadata": {},
   "source": [
    "Du beginnst in der ersten Zeile der Tabelle: \n",
    "\n",
    "Dort steht in der Spalte ```Wert (vorher)``` der Wert ```1.2```. Im oberen Programm speicherst du diesen Wert in der Variable ```variable```. Weiterhin beinhaltet die Tabelle die gewünschte Typisierungsfunktion. Diese ist in Zeile 3 des Programms zu verwenden. Führst du das Programm aus, so erhältst du den Wert und Datentyp **vor der Änderung** und im Anschluss den Wert und Datentyp **nach der Typisierung**. Trage deine Ergebnisse in die Tabelle ein. Sollte es zu Besonderheiten kommen, wie in der ersten Zeile der Tabelle, so ist dies in der letzten Spalte einzutragen.\n",
    "\n",
    "Veränderungen in der Tabelle kannst du vornehmen, indem du doppelt auf die Tabelle klickst."
   ]
  },
  {
   "cell_type": "markdown",
   "metadata": {},
   "source": [
    "Wert (vorher) | Datentyp (vorher) | Typisierungsfunktion | Wert (danach) | Datentyp (danach) | Besonderheiten\n",
    ":-----: | :-----: | :-----: | :-----: | :-----: | :-----: \n",
    "1.2 | float | int() | 1 | int | Nachkommastellen wurden \"abgeschnitten\".\n",
    "42 | ? | int() | ? | ? | ?\n",
    "42 | ? | float() | ? | ? | ?\n",
    "1.2 | ? | float() | ? | ? | ?\n",
    "42 | ? | str() | ? | ? | ?\n",
    "1.2 | ? | str() | ? | ? | ?\n",
    "\"12.34\" | ? | int() | ? | ? | ?\n",
    "\"12.34\" | ? | float() | ? | ? | ?\n",
    "\"112\" | ? | int() | ? | ? | ?\n",
    "\"112\" | ? | float() | ? | ? | ?\n",
    "\"1\" | ? | bool() | ? | ? | ?\n",
    "\"0\" | ? | bool() | ? | ? | ?\n",
    "True | ? | int() | ? | ? | ?\n",
    "False | ? | int() | ? | ? | ?\n",
    "True | ? | float() | ? | ? | ?\n",
    "False | ? | float() | ? | ? | ?\n",
    "None | ? | str() | ? | ? | ?\n",
    "None | ? | bool() | ? | ? | ?\n",
    "None | ? | int() | ? | ? | ?"
   ]
  },
  {
   "cell_type": "markdown",
   "metadata": {},
   "source": [
    "### Aufgabe 3\n",
    "\n",
    "__Implementiere ein Programm, was die folgenden Funktionalitäten erfüllt:__\n",
    "\n",
    "Der Nutzer oder die Nutzerin soll aufgefordert werden eine Zahl einzugeben. Diese Eingabe soll zunächst in einer Variable gespeichert werden. Aus der Eingabe soll die Quadratzahl berechnet werden. Ausgegeben werden soll in etwa sowas wie: 'Die Quadratzahl deiner eingegebenen Zahl `ZAHL` ist `ERGEBNIS`. Die Platzhalter sollen durch die tatsächlich eingegebenen und berechneten Werte ersetzt werden. "
   ]
  },
  {
   "cell_type": "code",
   "execution_count": null,
   "metadata": {},
   "outputs": [],
   "source": [
    "# deine Antwort hier"
   ]
  },
  {
   "cell_type": "markdown",
   "metadata": {},
   "source": [
    "### Aufgabe 4\n",
    "\n",
    "**Implementiere einen kleinen Taschenrechner für die Grundrechenarten:** \n",
    "Dazu soll der Nutzer zwei Zahlen $ a $ und $ b $ eingeben. Das Programm gibt dann die Summe $ a + b $, die Differenz $ a - b $, das Produkt $ a \\cdot b $  und den Quotienten $ a : b $ aus."
   ]
  },
  {
   "cell_type": "code",
   "execution_count": 4,
   "metadata": {},
   "outputs": [],
   "source": [
    "# deine Antwort hier"
   ]
  },
  {
   "cell_type": "markdown",
   "metadata": {},
   "source": [
    "<hr/>\n",
    "\n",
    "<div style=\"max-width:500px;margin-right: auto; margin-left: auto; text-align:center;\">\n",
    "\n",
    "© Patrick Binkert, Dr. Stephan Matos Camacho\n",
    "\n",
    "![FooterImage](00_coding@BvC.png)\n",
    "    \n",
    "</div>"
   ]
  }
 ],
 "metadata": {
  "kernelspec": {
   "display_name": "Python 3",
   "language": "python",
   "name": "python3"
  },
  "language_info": {
   "codemirror_mode": {
    "name": "ipython",
    "version": 3
   },
   "file_extension": ".py",
   "mimetype": "text/x-python",
   "name": "python",
   "nbconvert_exporter": "python",
   "pygments_lexer": "ipython3",
   "version": "3.11.9"
  }
 },
 "nbformat": 4,
 "nbformat_minor": 2
}
