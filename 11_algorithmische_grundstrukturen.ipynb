{
 "cells": [
  {
   "cell_type": "markdown",
   "metadata": {},
   "source": [
    "# Kapitel 4: Algorithmische Grundstrukturen und ihre Darstellung\n",
    "\n",
    "Bisher haben wir hauptsächlich Programme gesehen, bei denen der Programmcode Zeile für Zeile nacheinander ausgewertet wird. Mit Hilfe **algorithmischer Grundstrukturen** können wir diesem Verhalten abweichen.\n",
    "\n",
    "**Algorithmische Grundstrukturen steuern dabei den Ablauf eines Programms.** Mit ihnen könnt ihr Anweisungsblöcke definieren, die nur unter einer bestimmten Bedingung ausgeführt werden oder auch solche, deren Ausführung mehrfach erfolgt. Hierfür unterscheiden wir **Sequenzen**, **Verzweigungen** und **Schleifen**, welche wir uns - inklusiv dreier **Darstellungsformen** - nachfolgend genauer anschauen."
   ]
  },
  {
   "cell_type": "markdown",
   "metadata": {},
   "source": [
    "## 4.8.6. Zählergesteuerte Schleife (kurz: Zählschleife)\n",
    "\n",
    "Manchmal wissen wir **ganz genau**, wie oft etwas wiederholt werden soll. In einem solchen Fall können wir auf die direkte Überprüfung von Bedingungen verzichten und stattdessen eine Zählschleife verwenden.\n",
    "\n",
    "**Was brauchen wir dafür?**   \n",
    "Wir benötigen einen **Start- und Endwert**: Den Beginn, von wo an wir anfangen zu zählen, und bis wohin. Weiterhin benötigen wir eine sogenannte Schrittweite. Entweder können wir im 1er-Schritt zählen (also z. B.: 0, 1, 2, ...) oder in beliebigen anderen Schrittweiten.\n",
    "\n",
    "Die Struktur im **Programmcode** unterscheidet sich deutlich von den vorherigen Schleifen. \n",
    "\n",
    "**Am Beispiel:**"
   ]
  },
  {
   "cell_type": "code",
   "execution_count": null,
   "metadata": {},
   "outputs": [],
   "source": [
    "for i in range(0, 5, 1):\n",
    "    print(i)"
   ]
  },
  {
   "cell_type": "markdown",
   "metadata": {},
   "source": [
    "<p style=\"page-break-after:always;\"></p>\n",
    "\n",
    "**Erklärungen:**\n",
    "* Das Schlüsselwort für eine Zählschleife ist ```for```.\n",
    "* Nach dem Schlüsselwort folgt die Zählvariable, in diesem Fall ```i```. Diese wird fortlaufend durch die Schleife verändert. Innerhalb der Schleife kann auf den aktuellen Wert zugegriffen werden. Die Zählvariable kann beliebig benannt werden, allerdings ist es üblich, die Buchstaben ```i```, ```j``` oder ```k``` zu verwenden. Damit benötigen wir **keine** Variable mehr für den Zähler - wie bisher.\n",
    "* Im Anschluss folgt das Schlüsselwert ```in```. Das können wir \"lesen\" als: Die Zählvariable muss sich im nachfolgend definierten Wertebereich befinden.\n",
    "* Mit Hilfe von ```range(0, 4, 1)``` definieren wir unseren Wertebereich. Die erste Zahl ```0``` definiert den Startwert. Die zweite Zahl ```4``` definiert unsere obere Grenze. Diese obere Grenze ist **exklusiv**. Die Zählvariable ist immer kleiner als dieser Wert. Die letzte Zahl ```1``` gibt die Schrittweite an. Wie im oberen Beispiel zu sehen, wird hier im 1er Schritt gezählt."
   ]
  },
  {
   "cell_type": "markdown",
   "metadata": {},
   "source": [
    "Im **Pseudocode** könnte man exemplarisch Folgendes formulieren:\n",
    "\n",
    "```shell\n",
    "    WIEDERHOLE VON i = 0 BIS 5 IM 1er SCHRITT \n",
    "        ergebnis = ergebnis + i\n",
    "```"
   ]
  },
  {
   "cell_type": "markdown",
   "metadata": {},
   "source": [
    "Die **Implementierung** ergibt sich wie folgt:"
   ]
  },
  {
   "cell_type": "code",
   "execution_count": null,
   "metadata": {},
   "outputs": [],
   "source": [
    "ergebnis = 0\n",
    "for i in range(0, 5, 1):\n",
    "    ergebnis = ergebnis + i\n",
    "print(ergebnis)"
   ]
  },
  {
   "cell_type": "markdown",
   "metadata": {},
   "source": [
    "**Struktogramm:**\n",
    "\n",
    "![Struktogramm](11_zaehlschleife.png)"
   ]
  },
  {
   "cell_type": "markdown",
   "metadata": {},
   "source": [
    "Die geometrische Form entspricht der der kopfgesteuerten Schleife. \n",
    "\n",
    "Als Bedingung schreiben wir direkt den Schleifenkopf ```i in range(0, 5, 1)```. Das ist nicht unbedingt üblich, jedoch ermöglicht das Struktogramm-Tool die direkte Übersetzung des Struktogramms in ausführbaren Code."
   ]
  },
  {
   "cell_type": "markdown",
   "metadata": {},
   "source": [
    "<p style=\"page-break-after:always;\"></p>\n",
    "\n",
    "**Beispiel 1 - Wiederholte Satzausgabe:** "
   ]
  },
  {
   "cell_type": "code",
   "execution_count": null,
   "metadata": {},
   "outputs": [],
   "source": [
    "satz = input(\"Welcher Satz soll wiederholt ausgegeben werden? Gib einen Satz ein: \")\n",
    "eingabe = input(\"Wie oft soll der Satz ausgegeben werden? Gib eine Anzahl ein: \")\n",
    "anzahl = int(eingabe)\n",
    "\n",
    "for i in range(anzahl):\n",
    "    print(satz)\n",
    "\n",
    "print(\"Damit ist das Programm beendet.\")\n",
    "\n",
    "# FÜHRE MICH AUS! :)"
   ]
  },
  {
   "cell_type": "markdown",
   "metadata": {},
   "source": [
    "Wie an diesem Beispiel zu sehen ist, wird hier lediglich ```range(anzahl)``` verwendet. Dabei handelt es sich um eine **Kurzschreibweise**. In diesem Fall wird automatisch bei 0 begonnen zu zählen und die Schrittweite ist standardmäßig auf 1 festgelegt."
   ]
  },
  {
   "cell_type": "markdown",
   "metadata": {},
   "source": [
    "**Beispiel 2 - Alle gerade Zahlen von 0 bis 10:** "
   ]
  },
  {
   "cell_type": "code",
   "execution_count": null,
   "metadata": {},
   "outputs": [],
   "source": [
    "n = 0\n",
    "for i in range(0, 11, 2):\n",
    "    print(i)\n",
    "\n",
    "# FÜHRE MICH AUS! :)"
   ]
  },
  {
   "cell_type": "markdown",
   "metadata": {},
   "source": [
    "In diesem Beispiel wird deutlich, dass die **obere Grenze exklusiv** ist. \n",
    "\n",
    "Wollen wir alle geraden Zahlen von 0 bis 10 ausgeben, **müssen** wir die obere Grenze auf 11 setzen. Weiterhin wurde die Schrittweite auf 2 festgesetzt, sodass nur jede zweite Zahl - und damit auch nur die geraden Zahlen - ausgegeben werden."
   ]
  },
  {
   "cell_type": "markdown",
   "metadata": {},
   "source": [
    "<a href=\"https://learningview.org/app/#!/\" title=\"Auf zu LearningView! :-)\">![LearningView](00_learningview.png)</a>"
   ]
  },
  {
   "cell_type": "markdown",
   "metadata": {},
   "source": [
    "<p style=\"page-break-after:always;\"></p>\n",
    "\n",
    "## 4.8.7. Übungen zur zählergesteuerten Schleife / Zählschleife\n",
    "\n",
    "### Aufgabe 1\n",
    "\n",
    "Implementiere den folgenden Pseudocode.\n",
    "\n",
    "```shell\n",
    "Eingabe einer Zahl n\n",
    "Setze die Variable Zähler auf 1\n",
    "Setze die Variable Ergebnis auf 1\n",
    "WIEDERHOLE VON i = 1 BIS n IM 1er SCHRITT\n",
    "    ergebnis = ergebnis * zaehler\n",
    "    zaehler = zaehler + 1\n",
    "Ausgabe der Variable Ergebnis\n",
    "```"
   ]
  },
  {
   "cell_type": "code",
   "execution_count": null,
   "metadata": {},
   "outputs": [],
   "source": [
    "# HIER IST PLATZ FÜR DEINE LÖSUNG! :)\n",
    "\n"
   ]
  },
  {
   "cell_type": "markdown",
   "metadata": {},
   "source": [
    "<p style=\"page-break-after:always;\"></p>\n",
    "\n",
    "### Aufgabe 2\n",
    "\n",
    "Implementiere das folgende Struktogramm."
   ]
  },
  {
   "cell_type": "markdown",
   "metadata": {},
   "source": [
    "![Struktogramm](11_zaehlschleife_aufgabe2.png)"
   ]
  },
  {
   "cell_type": "code",
   "execution_count": null,
   "metadata": {},
   "outputs": [],
   "source": [
    "# HIER IST PLATZ FÜR DEINE LÖSUNG! :)\n",
    "\n"
   ]
  },
  {
   "cell_type": "markdown",
   "metadata": {},
   "source": [
    "<p style=\"page-break-after:always;\"></p>\n",
    "\n",
    "### Aufgabe 3\n",
    "\n",
    "Implementiere ein Programm, welches nach Eingabe einer oberen Grenze $ n $, alle Zahlen von $ 0 $ bis $ n $ aufaddiert.   \n",
    "\n",
    "Bei der Eingabe der Zahl $ 3 $ ergibt sich beispielsweise das Ergebnis $ 6 $. \n",
    "\n",
    "Gerechnet wird dabei: \n",
    "$ 0 + 1 + 2 + 3 = 6 $.\n",
    "\n",
    "Implementiere deine Lösung **zwingend** mit Hilfe einer **Zählschleife**!"
   ]
  },
  {
   "cell_type": "code",
   "execution_count": null,
   "metadata": {},
   "outputs": [],
   "source": [
    "# HIER IST PLATZ FÜR DEINE LÖSUNG! :)\n",
    "\n"
   ]
  },
  {
   "cell_type": "markdown",
   "metadata": {},
   "source": [
    "<p style=\"page-break-after:always;\"></p>\n",
    "\n",
    "### Aufgabe 4\n",
    "\n",
    "Implementiere ein Programm, welches die Zahlwörter eins, zwei, ... , sechs so oft ausgibt, wie es das Wort aussagt, also eins einmal, zwei zweimal.\n",
    "\n",
    "Implementiere deine Lösung mit Hilfe einer **Zählschleife**! Ein **korrekt funktionierendes Programm** erzeugt die folgende Ausgabe:\n",
    "\n",
    "```\n",
    "eins \n",
    "zwei zwei \n",
    "drei drei drei \n",
    "vier vier vier vier \n",
    "fünf fünf fünf fünf fünf \n",
    "sechs sechs sechs sechs sechs sechs \n",
    "```"
   ]
  },
  {
   "cell_type": "code",
   "execution_count": null,
   "metadata": {},
   "outputs": [],
   "source": [
    "# HIER IST PLATZ FÜR DEINE LÖSUNG! :)\n",
    "\n"
   ]
  },
  {
   "cell_type": "markdown",
   "metadata": {},
   "source": [
    "<p style=\"page-break-after:always;\"></p>\n",
    "\n",
    "<hr/>\n",
    "\n",
    "<div style=\"max-width:500px;margin-right: auto; margin-left: auto; text-align:center;\">\n",
    "\n",
    "© Patrick Binkert & Dr. Stephan Matos Camacho | SJ 25 / 26\n",
    "\n",
    "![FooterImage](00_coding@BvC.png)\n",
    "    \n",
    "</div>"
   ]
  }
 ],
 "metadata": {
  "kernelspec": {
   "display_name": "Python 3",
   "language": "python",
   "name": "python3"
  },
  "language_info": {
   "codemirror_mode": {
    "name": "ipython",
    "version": 3
   },
   "file_extension": ".py",
   "mimetype": "text/x-python",
   "name": "python",
   "nbconvert_exporter": "python",
   "pygments_lexer": "ipython3",
   "version": "3.12.10"
  }
 },
 "nbformat": 4,
 "nbformat_minor": 2
}
