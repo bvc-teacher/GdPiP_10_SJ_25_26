{
 "cells": [
  {
   "cell_type": "markdown",
   "metadata": {},
   "source": [
    "\n",
    "# Kapitel 2: Algorithmen und Algorithmuseigenschaften\n",
    "\n",
    "Algorithmen sind die Grundlage jeder modernen Technologie. Sie stecken in den Navigationssystemen unserer Autos, bestimmen die Ergebnisse von Suchmaschinen und sind das Herzstück von künstlicher Intelligenz. Doch was genau ist ein Algorithmus? Warum sind sie so entscheidend für die Informatik und das tägliche Leben?\n",
    "\n",
    "Ein Algorithmus ist eine **präzise Beschreibung**, wie eine bestimmte Aufgabe **Schritt für Schritt** gelöst werden kann. Dabei kann es sich um alltägliche Abläufe wie das Zubereiten eines Rezepts oder das Zusammenbauen eines Möbelstücks handeln, aber auch um komplexe Berechnungen in der Informatik.\n",
    "\n",
    "Ein **Beispiel aus dem Alltag** ist das Schreiben einer WhatsApp-Nachricht: Zuerst entsperrt man das Handy, öffnet die App, wählt einen Chat aus, tippt die Nachricht ein und sendet sie schließlich ab. Dieser Prozess läuft immer nach einer bestimmten Abfolge ab und kann als Algorithmus betrachtet werden.\n",
    "\n",
    "In diesem Kapitel beschäftigen wir uns mit dem Begriff des „Algorithmus'“, seiner Herkunft und den wesentlichen Eigenschaften, die ein Algorithmus besitzen muss. Dabei werden wir sehen, dass Algorithmen nicht nur in der Programmierung eine Rolle spielen, sondern auch in vielen anderen Bereichen unseres Lebens."
   ]
  },
  {
   "cell_type": "markdown",
   "metadata": {},
   "source": [
    "## 2.1. Algorithmusbegriff\n",
    "\n",
    "Es existiert eine **Vielzahl von Versuchen** einer **Definition** für den **Algorithmusbegriff**. Zum Beispiel:\n",
    "\n",
    "* Als „Algorithmus [...] bezeichnet [man] heute in der Arithmetik einen Rechenvorgang (bzw. die ihn beschreibenden Regeln), der nach einem bestimmten sich wiederholenden Schema abläuft.“ (Meyers Enzyklopädie, 1971)\n",
    "\n",
    "* „Ein Algorithmus [...] ist eine vollständige, präzise und in einer Notation oder Sprache mit exakter Deﬁnition abgefasste, endliche Beschreibung eines schrittweisen Problemlösungsverfahrens zur Ermittlung gesuchter Datenobjekte (ihrer Werte) aus gegebenen Werten von Datenobjekten, in dem jeder Schritt aus einer Anzahl ausführbarer, eindeutiger Aktionen und einer Angabe über den nächsten Schritt besteht.“ (Pomberger, Gustav; Dobler, Heinz: Algorithmen und Datenstrukturen - Eine systematische Einführung in die Programmierung. München: Pearson Education Deutschland GmbH, 2008)\n",
    "\n",
    "* „Ein Algorithmus ist eine detaillierte und explizite Vorschrift zur schrittweisen Lösung eines Problems.“ (Gumm, Heinz P.; Sommer, Manfred: Einführung in die Informatik. München: Oldenbourg Wissenschaftsverlag, 2006)\n",
    "\n",
    "**Anschauliche Erklärung**\n",
    "\n",
    "Ein Algorithmus ist eine endliche Folge von eindeutigen und ausführbaren Anweisungen zur Lösung einer Gruppe von Problemen.\n",
    "\n",
    "**Herkunft des Algorithmusbegriffs**\n",
    "\n",
    "Die Bezeichnung \"Algorithmus\" leitet sich aus dem Namen Al-Khwarizmi ab. Abu Abd Allah Mohammed Ibn Musa Al-Khwarizmi - so der vollständige Name - war ein Universalgelehrter und Mathematiker, der etwa von 780 bis 850 n. Chr. lebte. Er stammte aus Choresm (arab. Khwarizmi) – einer Region, die heute zu Usbekistan und Turkmenistan gehört – und arbeitete in Bagdad.\n",
    "\n",
    "![Al-Kwarizmi](03_al-chwarizmi.png)\n",
    "\n",
    "Al-Khwarizmi beschäftigte sich unter anderem mit Verfahren zur Lösung von Gleichungen. Diese Verfahren können aus heutiger Sicht als Algorithmen betrachtet werden. Dies ist wohl der Grund, weshalb Al-Khwarizmi als Namensgeber für systematische, maschinell verarbeitbare Verfahren gilt.\n"
   ]
  },
  {
   "cell_type": "markdown",
   "metadata": {},
   "source": [
    "## 2.2. Algorithmuseigenschaften\n",
    "\n",
    "Ein Algorithmus besitzt bestimmte **fundamentale Eigenschaften**, die ihn kennzeichnen.\n",
    "\n",
    "**Allgemeinheit**\n",
    "\n",
    "Ein Algorithmus ist allgemeingültig, d. h. er löst eine Vielzahl von Problemen derselben Art. Die Auswahl eines einzelnen konkreten Problems erfolgt über Eingabedaten oder Parameter.\n",
    "\n",
    "Beispiel: Ein Navigationssystem kann für unterschiedliche Start- und Zielpunkte die beste Route berechnen.\n",
    "\n",
    "**Eindeutigkeit / Determinismus**\n",
    "\n",
    "An jeder Stelle des Algorithmus muss eindeutig festgelegt sein, was zu tun ist und welcher Schritt als nächstes folgt. Jede Anweisung muss unmissverständlich formuliert sein.\n",
    "\n",
    "Beispiel: Eine Kochanleitung, die besagt „Salz hinzufügen“, ist nicht eindeutig. Eine präzisere Formulierung wäre: „Füge einen Teelöffel Salz hinzu.“\n",
    "\n",
    "**Ausführbarkeit**\n",
    "\n",
    "Jede einzelne Anweisung eines Algorithmus muss für den Computer oder Menschen ausführbar sein.\n",
    "\n",
    "Beispiel: Eine Bauanleitung für Möbel enthält nur Werkzeuge und Materialien, die tatsächlich vorhanden und nutzbar sind.\n",
    "\n",
    "**Endlichkeit / Finitheit**\n",
    "\n",
    "Die Beschreibung eines Algorithmus besitzt eine endliche Länge, d. h. er besteht aus einer begrenzten Anzahl von Anweisungen mit begrenzter Länge. Zudem darf ein Algorithmus zu jedem Zeitpunkt nur endlich viel Speicherplatz belegen.\n",
    "\n",
    "Beispiel: Eine Matheformel zur Berechnung des Flächeninhalts eines Kreises ist eine endliche Vorschrift und kann nicht unendlich viele Schritte enthalten.\n",
    "\n",
    "**Determiniertheit**\n",
    "\n",
    "Wird ein Algorithmus mit denselben Eingabewerten und Startbedingungen wiederholt, so liefert er stets dasselbe Ergebnis.\n",
    "\n",
    "Beispiel: Der Algorithmus zur Berechnung des Durchschnitts von drei Zahlen liefert bei gleichen Eingaben immer denselben Wert.\n",
    "\n",
    "**Terminiertheit**\n",
    "\n",
    "Ein Algorithmus muss nach einer endlichen Anzahl von Schritten beendet sein.\n",
    "\n",
    "Beispiel: Ein Kuchenrezept endet mit dem fertigen Kuchen – es läuft nicht unendlich weiter."
   ]
  },
  {
   "cell_type": "markdown",
   "metadata": {},
   "source": [
    "<a href=\"https://learningview.org/app/#!/\" title=\"Auf zu LearningView! :-)\">![LearningView](00_learningview.png)</a>"
   ]
  },
  {
   "cell_type": "markdown",
   "metadata": {},
   "source": [
    "## 2.3. Aufgaben\n",
    "\n",
    "**a) Finde Beispiele aus dem Alltag und aus der Informatik, in denen Algorithmen eine Rolle spielen.**\n",
    "\n",
    "Beispiel: Das Aufbauen eines IKEA-Regals mit Hilfe der Aufbauanleitung ist ein Algorithmus.\n"
   ]
  },
  {
   "cell_type": "markdown",
   "metadata": {},
   "source": [
    "... deine Antwort hier (doppelt anklicken zum Bearbeiten) ..."
   ]
  },
  {
   "cell_type": "markdown",
   "metadata": {},
   "source": [
    "\n",
    "**b) Finde zu jeder Algorithmuseigenschaft ein Beispiel aus dem Alltag.**\n",
    "\n",
    "Beispiel: Eine Formel, in Mathe oder Physik, liefert mit denselben Werten immer dasselbe Ergebnis (= Determiniertheit).\n"
   ]
  },
  {
   "cell_type": "markdown",
   "metadata": {},
   "source": [
    "... deine Antwort hier (doppelt anklicken zum Bearbeiten) ..."
   ]
  },
  {
   "cell_type": "markdown",
   "metadata": {},
   "source": [
    "**c) Beschreibe einen Algorithmus, den du täglich anwendest, in einfachen Worten.**\n",
    "\n",
    "Beispiel: Die Reihenfolge der Morgenroutine (Aufstehen, Zähneputzen, Anziehen, Frühstücken, Haus verlassen).\n"
   ]
  },
  {
   "cell_type": "markdown",
   "metadata": {},
   "source": [
    "... deine Antwort hier (doppelt anklicken zum Bearbeiten) ..."
   ]
  },
  {
   "cell_type": "markdown",
   "metadata": {},
   "source": [
    "**d) Überlege, warum ein Algorithmus unbedingt terminiert sein muss. Was würde passieren, wenn er unendlich weiterläuft?**\n",
    "\n",
    "Leitfrage: Gibt es Beispiele für Programme oder Prozesse, die nicht terminieren? Wie kann man dieses Problem lösen?"
   ]
  },
  {
   "cell_type": "markdown",
   "metadata": {},
   "source": [
    "... deine Antwort hier (doppelt anklicken zum Bearbeiten) ..."
   ]
  },
  {
   "cell_type": "markdown",
   "metadata": {},
   "source": [
    "<a href=\"https://learningview.org/app/#!/\" title=\"Auf zu LearningView! :-)\">![LearningView](00_learningview.png)</a>"
   ]
  },
  {
   "cell_type": "markdown",
   "metadata": {},
   "source": [
    "<hr/>\n",
    "\n",
    "<div style=\"max-width:500px;margin-right: auto; margin-left: auto; text-align:center;\">\n",
    "\n",
    "© Patrick Binkert & Dr. Stephan Matos Camacho | SJ 25 / 26\n",
    "\n",
    "![FooterImage](00_coding@BvC.png)\n",
    "    \n",
    "</div>"
   ]
  }
 ],
 "metadata": {
  "language_info": {
   "name": "python"
  }
 },
 "nbformat": 4,
 "nbformat_minor": 2
}
