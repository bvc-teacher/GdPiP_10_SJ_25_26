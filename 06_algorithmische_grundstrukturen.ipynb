{
 "cells": [
  {
   "cell_type": "markdown",
   "metadata": {},
   "source": [
    "# Kapitel 4: Algorithmische Grundstrukturen und ihre Darstellung\n",
    "\n",
    "Bisher haben wir ausschließlich Programme gesehen, bei denen der Programmcode Zeile für Zeile nacheinander ausgewertet wird. Mit Hilfe **algorithmischer Grundstrukturen** können wir von diesem Verhalten abweichen.\n",
    "\n",
    "**Algorithmische Grundstrukturen steuern dabei den Ablauf eines Programms.** Mit ihnen könnt ihr Anweisungsblöcke definieren, die nur unter einer bestimmten Bedingung ausgeführt werden, oder auch solche, deren Ausführung mehrfach erfolgt. Hierfür unterscheiden wir **Sequenzen**, **Verzweigungen** und **Schleifen**, welche wir uns - inklusiv dreier **Darstellungsformen** - nachfolgend genauer anschauen."
   ]
  },
  {
   "cell_type": "markdown",
   "metadata": {},
   "source": [
    "## 4.1. Darstellungsformen\n",
    "\n",
    "Programme und Algorithmen können auf verschiedenste Art und Weise dargestellt werden. Zu nennen sind hierbei die Darstellungsformen __Pseudocode__, __Code__ und __Struktogramm__.\n",
    "\n",
    "Der __Pseudocode__ ist eine natürlichsprachliche Formulierung des Programms. Er versucht in einfacher und nachvollziehbarer Sprache die Struktur eines Programms wiederzugeben. Ihr beschreibt also umgangssprachlich was passieren soll, zum Beispiel \"eine Zahl eingeben\" oder \"das Ergebnis ausgeben\".\n",
    "\n",
    "Der __Code__ ist natürlich abhängig von der gewählten Programmiersprache. Wir werden hierbei ausschließlich Python-Code nutzen.  \n",
    "\n",
    "Das __Struktogramm (auch: Nassi-Shneiderman-Diagramm)__ versucht mit Hilfe einfacher geometrischer Formen den Programmablauf zu visualisieren und in einer strukturierten Art und Weise darzustellen. Ein digitales Tool zur Erstellung von Struktogrammen steht unter [🛜 Struktog.](https://binkert-patrick.de/struktog/) für euch bereit.\n",
    "\n",
    "Diese Darstellungsformen werden nachfolgend - bei den algorithmischen Grundstrukturen - mit Beispielen untermauert. \n",
    "\n",
    "Zu den Struktogrammen sei erwähnt, dass die verwendeten Farben **nicht** vorgeschrieben, sondern lediglich Ergebnis des verwendeten Tools sind."
   ]
  },
  {
   "cell_type": "markdown",
   "metadata": {},
   "source": [
    "<p style=\"page-break-after:always;\"></p>\n",
    "\n",
    "## 4.2. Sequenz\n",
    "\n",
    "Bei der **Sequenz** handelt es sich schlichtweg um eine **Abfolge von Anweisungen**. \n",
    "\n",
    "Diese werden dabei nacheinander aufgeschrieben und von oben nach unten - auch als **iterativ** bezeichnet - abgearbeitet. Alle bisher verwendeten Codeschnipsel waren demnach Sequenzen.\n",
    "\n",
    "Visualisieren wir dies an einem einfachen **Beispiel**: Dabei wird eine Zahl eingegeben, das Quadrat dieser Zahl berechnet und die berechnete Quadratzahl ausgegeben."
   ]
  },
  {
   "cell_type": "code",
   "execution_count": null,
   "metadata": {},
   "outputs": [],
   "source": [
    "eingabe = input(\"Gib eine Zahl ein: \")\n",
    "zahl = int(eingabe)\n",
    "quadrat_zahl = zahl**2\n",
    "print(quadrat_zahl)"
   ]
  },
  {
   "cell_type": "markdown",
   "metadata": {},
   "source": [
    "Eine Darstellung des Codes in **Pseudocode** wäre:\n",
    "\n",
    "    Zahl eingeben\n",
    "    Quadrat der Zahl berechnen\n",
    "    Quadratzahl ausgeben"
   ]
  },
  {
   "cell_type": "markdown",
   "metadata": {},
   "source": [
    "In einem **Struktogramm** wird jede Anweisung in einem **Rechteck** dargestellt. \n",
    "\n",
    "Eingaben werden dabei mit einem vorangestelltem ```E```, Ausgaben mit einem vorangestelltem ```A``` gekennzeichnet. Damit ergibt sich die folgende Darstellung:\n",
    "\n",
    "![Struktogramm](06_sequenz.png)"
   ]
  },
  {
   "cell_type": "markdown",
   "metadata": {},
   "source": [
    "Das Beispiel zeigt direkt, dass die Darstellungsformen **Pseudocode** und **Struktogramm** nicht immer zu 100% zu unserer Programmiersprache passen. Im obigen Code sehen wir die folgende Zeile."
   ]
  },
  {
   "cell_type": "code",
   "execution_count": null,
   "metadata": {},
   "outputs": [],
   "source": [
    "zahl = int(eingabe)"
   ]
  },
  {
   "cell_type": "markdown",
   "metadata": {},
   "source": [
    "Diese Zeile wird in den anderen Darstellungsformen **nicht** berücksichtigt. Aber wir wissen, das jede Nutzereingabe vom Datentyp ```string``` ist. Wenn wir damit rechnen wollen, **müssen** wir also den Datentyp zu einer ganzen Zahl oder Dezimalzahl ändern."
   ]
  },
  {
   "cell_type": "markdown",
   "metadata": {},
   "source": [
    "<p style=\"page-break-after:always;\"></p>\n",
    "\n",
    "## 4.3. Übungen zur Sequenz\n",
    "\n",
    "### Aufgabe 1\n",
    "Implementiert den folgenden Pseudocode. Testet das Programm!\n",
    "\n",
    "```\n",
    "ganze Zahl a eingeben\n",
    "ganze Zahl b eingeben\n",
    "Summe beider Zahlen berechnen\n",
    "Summe ausgeben\n",
    "```"
   ]
  },
  {
   "cell_type": "code",
   "execution_count": null,
   "metadata": {},
   "outputs": [],
   "source": [
    "# HIER IST PLATZ FÜR EURE LÖSUNG. :)\n",
    "\n",
    "\n"
   ]
  },
  {
   "cell_type": "markdown",
   "metadata": {},
   "source": [
    "### Aufgabe 2\n",
    "Implementiert das folgende Struktogramm. Achtet bei der Ausgabe auf das exakte Setzen der Leerzeichen!\n",
    "\n",
    "![Struktogramm](06_uebung_zur_sequenz.png)"
   ]
  },
  {
   "cell_type": "code",
   "execution_count": null,
   "metadata": {},
   "outputs": [],
   "source": [
    "# HIER IST PLATZ FÜR EURE LÖSUNG! :)"
   ]
  },
  {
   "cell_type": "markdown",
   "metadata": {},
   "source": [
    "<a href=\"https://learningview.org/app/#!/\" title=\"Auf zu LearningView! :-)\">![LearningView](00_learningview.png)</a>"
   ]
  },
  {
   "cell_type": "markdown",
   "metadata": {},
   "source": [
    "<hr/>\n",
    "\n",
    "<div style=\"max-width:500px;margin-right: auto; margin-left: auto; text-align:center;\">\n",
    "\n",
    "© Patrick Binkert & Dr. Stephan Matos Camacho | SJ 25 / 26\n",
    "\n",
    "![FooterImage](00_coding@BvC.png)\n",
    "    \n",
    "</div>"
   ]
  }
 ],
 "metadata": {
  "kernelspec": {
   "display_name": "Python 3",
   "language": "python",
   "name": "python3"
  },
  "language_info": {
   "codemirror_mode": {
    "name": "ipython",
    "version": 3
   },
   "file_extension": ".py",
   "mimetype": "text/x-python",
   "name": "python",
   "nbconvert_exporter": "python",
   "pygments_lexer": "ipython3",
   "version": "3.11.9"
  }
 },
 "nbformat": 4,
 "nbformat_minor": 2
}
