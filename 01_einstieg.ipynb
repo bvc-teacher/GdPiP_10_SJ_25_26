{
 "cells": [
  {
   "cell_type": "markdown",
   "id": "073ea083",
   "metadata": {},
   "source": [
    "# Hallo Welt :-)\n",
    "\n",
    "In den nächsten Wochen werdet ihr diesen Selbstlernkurs zur Programmierung bearbeiten. \n",
    "\n",
    "Alle Kapitel sind nacheinander von euch abzuarbeiten. Der Kurs wird sich Woche um Woche erweitern. Schaut also regelmäßig auf dem Laufwerk ```K:``` im Ordner ```K:\\Binkert\\INF10\\GdPiP``` oder online im [GitHub Respository](https://github.com/bvc-teacher/GdPiP_10_SJ_25_26_BINKERT) nach, ob neue Dateien für euch verfügbar sind, sobald ihr ein Kapitel abgeschlossen habt. \n",
    "\n",
    "Die Dateien sind jeweils in euer Nutzerverzeichnis, also auf das Laufwerk ```H:``` zu kopieren und ausschließlich dort zu bearbeiten.\n",
    "\n",
    "Alle Übungsaufgaben sind  **vollständig** von euch zu erledigen. \n",
    "\n",
    "Musterlösungen für Übungsaufgaben werden mit etwas zeitlichen Abstand zur Verfügung gestellt. Aber, und das ist das Wichtigste: **Programmieren lernt man nur, in dem man programmiert.** Verlasst euch nicht auf die Musterlösungen. Probiert euch aus, macht Fehler, lernt aus euren Fehlern, sucht die Fehler und helft sowie unterstützt euch gegenseitig bei der Bearbeitung der Aufgaben. Programmieren ist viel leichter als man denkt, das wird euch in diesem Kurs (hoffentlich) gezeigt. \n",
    "\n",
    "Alle Inhalte des Selbstlernkurses werden in **Leistungskontrollen** abgefragt. Alle Themen des Kurses sind relevant. \n",
    "\n",
    "Der Kurs hilft dir, die Inhalte in einer strukturierten Form nachzuvollziehen. Unterstützend kannst du bei Problemen das Internet nutzen und selbst eine Lösung finden. \n",
    "\n",
    "# Aufbau\n",
    "\n",
    "Der Kurs ist eingeteilt in die nachfolgenden Kapitel. Zu Beginn wird die Arbeitsfähigkeit hergestellt, also die Software und Programmiersprache mit der wir arbeiten, im Anschluss folgen die Grundlagen, die Grundstrukturen, ... usw., bis hin zur Programmierung eigener erster kleiner Programme. \n",
    "\n",
    "* **Kapitel I:** Software, Tools und Programmiersprache \n",
    "\n",
    "* **Kapitel II:** Algorithmen und Algoithmuseigenschaften \n",
    "\n",
    "* **Kapitel III:** Grundlagen der Programmierung\n",
    "\n",
    "* **Kapitel IV:** Algorithmische Grundstrukturen\n",
    "\n",
    "* **Kapitel V:** Modularisierung\n",
    "\n",
    "* **Kapitel VI:** Vertiefung"
   ]
  },
  {
   "cell_type": "markdown",
   "id": "b4ad11c2",
   "metadata": {},
   "source": [
    "<hr/>\n",
    "\n",
    "<div style=\"max-width:500px;margin-right: auto; margin-left: auto; text-align:center;\">\n",
    "\n",
    "© Patrick Binkert & Dr. Stephan Matos Camacho | SJ 25 / 26\n",
    "\n",
    "![FooterImage](00_coding@BvC.png)\n",
    "    \n",
    "</div>"
   ]
  }
 ],
 "metadata": {
  "language_info": {
   "name": "python"
  }
 },
 "nbformat": 4,
 "nbformat_minor": 5
}
