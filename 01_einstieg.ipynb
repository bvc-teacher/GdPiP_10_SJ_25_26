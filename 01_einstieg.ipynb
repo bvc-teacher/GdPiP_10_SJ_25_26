{
 "cells": [
  {
   "cell_type": "markdown",
   "id": "073ea083",
   "metadata": {},
   "source": [
    "# Hallo Welt :-)\n",
    "\n",
    "In den nächsten Wochen werdet ihr diesen Selbstlernkurs zur Programmierung bearbeiten. \n",
    "\n",
    "Alle Kapitel sind nacheinander von euch abzuarbeiten. Der Kurs wird sich Woche um Woche erweitern. Schaut also regelmäßig auf dem Laufwerk ```K:``` im Ordner ```K:\\Binkert\\INF10\\GdPiP``` oder online im [GitHub Respository](https://github.com/bvc-teacher/GdPiP_10_SJ_25_26_BINKERT) nach, ob neue Dateien für euch verfügbar sind, sobald ihr ein Kapitel abgeschlossen habt. Das öffentliche GitHub Respository ermöglicht dir den Zugriff auf die Dateien von zu Hause aus, ohne das du mit LernSax oder einem USB-Stick arbeiten musst. Notiere daher am besten direkt den nachfolgenden kurzen Link, welcher dich zu diesem Respository führt: ```t1p.de/cgy7g```\n",
    "\n",
    "Die Dateien sind jeweils in euer Nutzerverzeichnis, also auf das Laufwerk ```H:``` zu kopieren und ausschließlich dort zu bearbeiten.\n",
    "\n",
    "Alle Übungsaufgaben sind  **vollständig** von euch zu erledigen. \n",
    "\n",
    "Musterlösungen für Übungsaufgaben werden mit etwas zeitlichen Abstand zur Verfügung gestellt. Aber, und das ist das Wichtigste: **Programmieren lernt man nur, in dem man programmiert.** Verlasst euch nicht auf die Musterlösungen. Probiert euch aus, macht Fehler, lernt aus euren Fehlern, sucht die Fehler und helft sowie unterstützt euch gegenseitig bei der Bearbeitung der Aufgaben. Programmieren ist viel leichter als man denkt, das wird euch in diesem Kurs (hoffentlich) gezeigt. \n",
    "\n",
    "Alle Inhalte des Selbstlernkurses werden in **Leistungskontrollen** abgefragt. Alle Themen des Kurses sind relevant. \n",
    "\n",
    "Der Kurs hilft dir, die Inhalte in einer strukturierten Form nachzuvollziehen. Unterstützend kannst du bei Problemen das Internet nutzen und selbst eine Lösung finden. \n",
    "\n",
    "# Aufbau\n",
    "\n",
    "Der Kurs ist eingeteilt in die nachfolgenden Kapitel. Zu Beginn wird die Arbeitsfähigkeit hergestellt, also die Software und Programmiersprache mit der wir arbeiten, im Anschluss folgen die Grundlagen, die Grundstrukturen, ... usw., bis hin zur Programmierung eigener erster kleiner Programme. \n",
    "\n",
    "* **Kapitel I:** Software, Tools und Programmiersprache \n",
    "\n",
    "* **Kapitel II:** Algorithmen und Algoithmuseigenschaften \n",
    "\n",
    "* **Kapitel III:** Grundlagen der Programmierung\n",
    "\n",
    "* **Kapitel IV:** Algorithmische Grundstrukturen\n",
    "\n",
    "* **Kapitel V:** Modularisierung\n",
    "\n",
    "* **Kapitel VI:** Vertiefung\n",
    "\n",
    "# Lernstandskontrolle und Vertiefung\n",
    "\n",
    "Der Selbstlernkurs wird von einem Tool namens **LearningView** begleitet. \n",
    "\n",
    "Ihr erhaltet von mir einen Zugangscode in Papierform. Klebe dir diesen Zettel am besten in deinen Hefter **UND** mache dir ein Foto mit deinem Smartphone (direkt auch als Favorit speichern), damit du diesen nicht verlierst. \n",
    "\n",
    "Auf **LearningView** gebt ihr mir systematisch Rückmeldung zu eurem Fortschritt. Außerdem erhaltet ihr darüber Zugang zu weiterem Material, Selbsttests, Quizzes und einiges mehr. Bitte klicke auf den nachfolgenden Link, welcher deiner Info-Gruppe entspricht.\n",
    "\n",
    "Infogruppe | Link | Kurscode\n",
    ":---: | :--------------: | :---:\n",
    "In10a1 | [Einladungs-Link](https://learningview.org/invite/s84263/2421615fab02915192d114aa1123b2b8a55d6e0a) | 2YXJSAT5\n",
    "In10a2 | [Einladungs-Link](https://learningview.org/invite/s84265/72e89926ac301f4a39bd8b75fb7860eaf4ec875d) | XRXJEX2M\n",
    "In10b1 | [Einladungs-Link](https://learningview.org/invite/s84266/6cb90af16fbda807f535588d464359236923d0b0) | WY6XYEWA\n",
    "In10b2 | [Einladungs-Link](https://learningview.org/invite/s84267/9a292da718a9c555a7054ca7202ed6f919c36131) | RS8ZKDV4\n",
    "In10c2 | [Einladungs-Link](https://learningview.org/invite/s84268/5c26e2a2e46dc39f3be1203a96666159a5f20ab2) | 8CPVRWEH\n",
    "In10d1 | [Einladungs-Link](https://learningview.org/invite/s84269/2a9906a94e05ef4ed9e1206db1f6e66c7a2f9f47) | Y5K3Y2NM\n",
    "In10d2 | [Einladungs-Link](https://learningview.org/invite/s84270/6f0b8decb6b58ea8b2d3fa67a9b11f2f6b788ef8) | QXSJUGUJ\n",
    "\n",
    "Immer, wenn es etwas auf **LearningView** zu tun gibt, findest du das nachfolgende Icon. Das ist dein Impuls, auf LearningView, im entsprechenden Thema nachzuschauen und die **Checklisten / Aufgaben** zu bearbeiten. \n",
    "\n",
    "Das Bild ist gleichzeitig **ein Link und kann angeklickt** werden, um zu LearningView zu gelangen.\n",
    "\n",
    "<a href=\"https://learningview.org/app/#!/\" title=\"Auf zu LearningView! :-)\">![LearningView](00_learningview.png)</a>"
   ]
  },
  {
   "cell_type": "markdown",
   "id": "b4ad11c2",
   "metadata": {},
   "source": [
    "<hr/>\n",
    "\n",
    "<div style=\"max-width:500px;margin-right: auto; margin-left: auto; text-align:center;\">\n",
    "\n",
    "© Patrick Binkert & Dr. Stephan Matos Camacho | SJ 25 / 26\n",
    "\n",
    "![FooterImage](00_coding@BvC.png)\n",
    "    \n",
    "</div>"
   ]
  }
 ],
 "metadata": {
  "language_info": {
   "name": "python"
  }
 },
 "nbformat": 4,
 "nbformat_minor": 5
}
